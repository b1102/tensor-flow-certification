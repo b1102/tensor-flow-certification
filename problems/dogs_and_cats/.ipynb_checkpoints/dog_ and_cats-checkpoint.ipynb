{
 "cells": [
  {
   "cell_type": "code",
   "execution_count": 17,
   "metadata": {},
   "outputs": [],
   "source": [
    "import tensorflow as tf\n",
    "from keras.preprocessing.image import ImageDataGenerator\n",
    "from keras.preprocessing import image\n",
    "import os\n",
    "import time\n",
    "import numpy as np"
   ]
  },
  {
   "cell_type": "code",
   "execution_count": 18,
   "metadata": {},
   "outputs": [
    {
     "name": "stdout",
     "output_type": "stream",
     "text": [
      "Num GPUs Available:  1\n",
      "\n",
      "2.7.0\n"
     ]
    }
   ],
   "source": [
    "os.environ['TF_CPP_MIN_LOG_LEVEL'] = '3'\n",
    "print(\"Num GPUs Available: \", len(tf.config.list_physical_devices('GPU')))\n",
    "print()\n",
    "print(tf.__version__)"
   ]
  },
  {
   "cell_type": "code",
   "execution_count": 19,
   "metadata": {},
   "outputs": [
    {
     "name": "stdout",
     "output_type": "stream",
     "text": [
      "Found 8000 images belonging to 2 classes.\n"
     ]
    }
   ],
   "source": [
    "train_datagen = ImageDataGenerator(rescale=1. / 255,\n",
    "                                   shear_range=0.2,\n",
    "                                   zoom_range=0.2,\n",
    "                                   horizontal_flip=True\n",
    "                                   )\n",
    "training_set = train_datagen.flow_from_directory('dataset/training_set',\n",
    "                                                 target_size=(64, 64),\n",
    "                                                 batch_size=32,\n",
    "                                                 class_mode='categorical')"
   ]
  },
  {
   "cell_type": "code",
   "execution_count": 20,
   "metadata": {},
   "outputs": [
    {
     "name": "stdout",
     "output_type": "stream",
     "text": [
      "Found 2000 images belonging to 2 classes.\n"
     ]
    }
   ],
   "source": [
    "test_datagen = ImageDataGenerator(rescale=1. / 255)\n",
    "test_set = test_datagen.flow_from_directory('dataset/test_set',\n",
    "                                            target_size=(64, 64),\n",
    "                                            batch_size=32,\n",
    "                                            class_mode='categorical')"
   ]
  },
  {
   "cell_type": "code",
   "execution_count": 37,
   "metadata": {},
   "outputs": [
    {
     "name": "stdout",
     "output_type": "stream",
     "text": [
      "(None, 14, 14, 32)\n",
      "(None, 6272)\n",
      "(None, 128)\n"
     ]
    }
   ],
   "source": [
    "cnn = tf.keras.models.Sequential()\n",
    "cnn.add(tf.keras.layers.Conv2D(filters=32, kernel_size=3, activation='relu', input_shape=[64, 64, 3]))\n",
    "cnn.add(tf.keras.layers.MaxPool2D(pool_size=2, strides=2))\n",
    "cnn.add(tf.keras.layers.Conv2D(filters=32, kernel_size=3, activation='relu'))\n",
    "cnn.add(tf.keras.layers.MaxPool2D(pool_size=2, strides=2))\n",
    "print(cnn.output_shape)\n",
    "cnn.add(tf.keras.layers.Flatten())\n",
    "print(cnn.output_shape)\n",
    "cnn.add(tf.keras.layers.Dense(units=128, activation='relu'))\n",
    "print(cnn.output_shape)\n",
    "cnn.add(tf.keras.layers.Dense(units=2, activation=\"sigmoid\"))\n",
    "cnn.add(tf.keras.layers.Softmax())"
   ]
  },
  {
   "cell_type": "code",
   "execution_count": 38,
   "metadata": {},
   "outputs": [],
   "source": [
    "cnn.compile(optimizer='adam', loss=\"categorical_crossentropy\", metrics=[\"accuracy\"])\n",
    "early_stopping = tf.keras.callbacks.EarlyStopping(\n",
    "    patience=10,\n",
    "    min_delta=0.001,\n",
    "    restore_best_weights=True,\n",
    ")"
   ]
  },
  {
   "cell_type": "code",
   "execution_count": null,
   "metadata": {},
   "outputs": [
    {
     "name": "stdout",
     "output_type": "stream",
     "text": [
      "Epoch 1/100\n",
      "250/250 [==============================] - 17s 66ms/step - loss: 0.6869 - accuracy: 0.5422 - val_loss: 0.6583 - val_accuracy: 0.6265\n",
      "Epoch 2/100\n",
      "250/250 [==============================] - 17s 66ms/step - loss: 0.6545 - accuracy: 0.6110 - val_loss: 0.6156 - val_accuracy: 0.6780\n",
      "Epoch 3/100\n",
      "250/250 [==============================] - 17s 67ms/step - loss: 0.6154 - accuracy: 0.6634 - val_loss: 0.6021 - val_accuracy: 0.6925\n",
      "Epoch 4/100\n",
      "250/250 [==============================] - 17s 67ms/step - loss: 0.6079 - accuracy: 0.6749 - val_loss: 0.5905 - val_accuracy: 0.7005\n",
      "Epoch 5/100\n",
      "250/250 [==============================] - 17s 68ms/step - loss: 0.5989 - accuracy: 0.6891 - val_loss: 0.5990 - val_accuracy: 0.6825\n",
      "Epoch 6/100\n",
      "250/250 [==============================] - 17s 67ms/step - loss: 0.5849 - accuracy: 0.7067 - val_loss: 0.5773 - val_accuracy: 0.7135\n",
      "Epoch 7/100\n",
      "250/250 [==============================] - 17s 67ms/step - loss: 0.5804 - accuracy: 0.7090 - val_loss: 0.5812 - val_accuracy: 0.7045\n",
      "Epoch 8/100\n",
      "250/250 [==============================] - 17s 67ms/step - loss: 0.5712 - accuracy: 0.7204 - val_loss: 0.5780 - val_accuracy: 0.7155\n",
      "Epoch 9/100\n",
      "250/250 [==============================] - 16s 62ms/step - loss: 0.5563 - accuracy: 0.7390 - val_loss: 0.5628 - val_accuracy: 0.7315\n",
      "Epoch 10/100\n",
      "250/250 [==============================] - 16s 64ms/step - loss: 0.5601 - accuracy: 0.7369 - val_loss: 0.5578 - val_accuracy: 0.7395\n",
      "Epoch 11/100\n",
      "250/250 [==============================] - 16s 64ms/step - loss: 0.5482 - accuracy: 0.7477 - val_loss: 0.5583 - val_accuracy: 0.7340\n",
      "Epoch 12/100\n",
      "250/250 [==============================] - 16s 64ms/step - loss: 0.5435 - accuracy: 0.7563 - val_loss: 0.5498 - val_accuracy: 0.7540\n",
      "Epoch 13/100\n",
      "250/250 [==============================] - 16s 64ms/step - loss: 0.5411 - accuracy: 0.7600 - val_loss: 0.6021 - val_accuracy: 0.6810\n",
      "Epoch 14/100\n",
      "250/250 [==============================] - 16s 64ms/step - loss: 0.5374 - accuracy: 0.7607 - val_loss: 0.5592 - val_accuracy: 0.7355\n",
      "Epoch 15/100\n",
      "250/250 [==============================] - 16s 65ms/step - loss: 0.5310 - accuracy: 0.7686 - val_loss: 0.5500 - val_accuracy: 0.7455\n",
      "Epoch 16/100\n",
      "250/250 [==============================] - 16s 64ms/step - loss: 0.5298 - accuracy: 0.7716 - val_loss: 0.5408 - val_accuracy: 0.7530\n",
      "Epoch 17/100\n",
      "250/250 [==============================] - 17s 66ms/step - loss: 0.5192 - accuracy: 0.7840 - val_loss: 0.5378 - val_accuracy: 0.7575\n",
      "Epoch 18/100\n",
      "250/250 [==============================] - 17s 68ms/step - loss: 0.5170 - accuracy: 0.7862 - val_loss: 0.5388 - val_accuracy: 0.7620\n",
      "Epoch 19/100\n",
      "250/250 [==============================] - 17s 66ms/step - loss: 0.5131 - accuracy: 0.7899 - val_loss: 0.5287 - val_accuracy: 0.7720\n",
      "Epoch 20/100\n",
      "134/250 [===============>..............] - ETA: 6s - loss: 0.5139 - accuracy: 0.7873"
     ]
    }
   ],
   "source": [
    "t = time.process_time()\n",
    "cnn.fit(x=training_set, validation_data=test_set, epochs=100, callbacks=[early_stopping])\n",
    "elapsed_time = time.process_time() - t\n",
    "print()\n",
    "print()\n",
    "print()\n",
    "print(\"____________________________________________\")\n",
    "print(elapsed_time)\n",
    "print(\"____________________________________________\")\n",
    "print()\n",
    "print()\n",
    "print()"
   ]
  },
  {
   "cell_type": "code",
   "execution_count": 19,
   "metadata": {},
   "outputs": [
    {
     "name": "stdout",
     "output_type": "stream",
     "text": [
      "63/63 - 3s - loss: 0.5021 - accuracy: 0.7960 - 3s/epoch - 40ms/step\n"
     ]
    },
    {
     "data": {
      "text/plain": [
       "[0.5020958185195923, 0.7960000038146973]"
      ]
     },
     "execution_count": 19,
     "metadata": {},
     "output_type": "execute_result"
    }
   ],
   "source": [
    "cnn.evaluate(test_set, verbose=2)"
   ]
  },
  {
   "cell_type": "code",
   "execution_count": 33,
   "metadata": {},
   "outputs": [
    {
     "name": "stdout",
     "output_type": "stream",
     "text": [
      "[[0.26894143 0.73105854]]\n"
     ]
    }
   ],
   "source": [
    "test_image = image.load_img('dataset/test_set/dogs/dog.4115.jpg', target_size = (64, 64))\n",
    "test_image = image.img_to_array(test_image)\n",
    "test_image = np.expand_dims(test_image, axis = 0)\n",
    "result = cnn.predict(test_image)\n",
    "print(result)"
   ]
  }
 ],
 "metadata": {
  "kernelspec": {
   "display_name": "Python 3 (ipykernel)",
   "language": "python",
   "name": "python3"
  },
  "language_info": {
   "codemirror_mode": {
    "name": "ipython",
    "version": 3
   },
   "file_extension": ".py",
   "mimetype": "text/x-python",
   "name": "python",
   "nbconvert_exporter": "python",
   "pygments_lexer": "ipython3",
   "version": "3.8.12"
  }
 },
 "nbformat": 4,
 "nbformat_minor": 1
}
