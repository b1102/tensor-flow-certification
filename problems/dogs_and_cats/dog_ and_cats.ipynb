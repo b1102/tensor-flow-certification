{
 "cells": [
  {
   "cell_type": "code",
   "execution_count": 17,
   "metadata": {},
   "outputs": [],
   "source": [
    "import tensorflow as tf\n",
    "from keras.preprocessing.image import ImageDataGenerator\n",
    "from keras.preprocessing import image\n",
    "import os\n",
    "import time\n",
    "import numpy as np"
   ]
  },
  {
   "cell_type": "code",
   "execution_count": 18,
   "metadata": {},
   "outputs": [
    {
     "name": "stdout",
     "output_type": "stream",
     "text": [
      "Num GPUs Available:  1\n",
      "\n",
      "2.7.0\n"
     ]
    }
   ],
   "source": [
    "os.environ['TF_CPP_MIN_LOG_LEVEL'] = '3'\n",
    "print(\"Num GPUs Available: \", len(tf.config.list_physical_devices('GPU')))\n",
    "print()\n",
    "print(tf.__version__)"
   ]
  },
  {
   "cell_type": "code",
   "execution_count": 19,
   "metadata": {},
   "outputs": [
    {
     "name": "stdout",
     "output_type": "stream",
     "text": [
      "Found 8000 images belonging to 2 classes.\n"
     ]
    }
   ],
   "source": [
    "train_datagen = ImageDataGenerator(rescale=1. / 255,\n",
    "                                   shear_range=0.2,\n",
    "                                   zoom_range=0.2,\n",
    "                                   horizontal_flip=True\n",
    "                                   )\n",
    "training_set = train_datagen.flow_from_directory('dataset/training_set',\n",
    "                                                 target_size=(64, 64),\n",
    "                                                 batch_size=32,\n",
    "                                                 class_mode='categorical')"
   ]
  },
  {
   "cell_type": "code",
   "execution_count": 20,
   "metadata": {},
   "outputs": [
    {
     "name": "stdout",
     "output_type": "stream",
     "text": [
      "Found 2000 images belonging to 2 classes.\n"
     ]
    }
   ],
   "source": [
    "test_datagen = ImageDataGenerator(rescale=1. / 255)\n",
    "test_set = test_datagen.flow_from_directory('dataset/test_set',\n",
    "                                            target_size=(64, 64),\n",
    "                                            batch_size=32,\n",
    "                                            class_mode='categorical')"
   ]
  },
  {
   "cell_type": "code",
   "execution_count": 37,
   "metadata": {},
   "outputs": [
    {
     "name": "stdout",
     "output_type": "stream",
     "text": [
      "(None, 14, 14, 32)\n",
      "(None, 6272)\n",
      "(None, 128)\n"
     ]
    }
   ],
   "source": [
    "cnn = tf.keras.models.Sequential()\n",
    "cnn.add(tf.keras.layers.Conv2D(filters=32, kernel_size=3, activation='relu', input_shape=[64, 64, 3]))\n",
    "cnn.add(tf.keras.layers.MaxPool2D(pool_size=2, strides=2))\n",
    "cnn.add(tf.keras.layers.Conv2D(filters=32, kernel_size=3, activation='relu'))\n",
    "cnn.add(tf.keras.layers.MaxPool2D(pool_size=2, strides=2))\n",
    "print(cnn.output_shape)\n",
    "cnn.add(tf.keras.layers.Flatten())\n",
    "print(cnn.output_shape)\n",
    "cnn.add(tf.keras.layers.Dense(units=128, activation='relu'))\n",
    "print(cnn.output_shape)\n",
    "cnn.add(tf.keras.layers.Dense(units=2, activation=\"sigmoid\"))\n",
    "cnn.add(tf.keras.layers.Softmax())"
   ]
  },
  {
   "cell_type": "code",
   "execution_count": 38,
   "metadata": {},
   "outputs": [],
   "source": [
    "cnn.compile(optimizer='adam', loss=\"categorical_crossentropy\", metrics=[\"accuracy\"])\n",
    "early_stopping = tf.keras.callbacks.EarlyStopping(\n",
    "    patience=10,\n",
    "    min_delta=0.001,\n",
    "    restore_best_weights=True,\n",
    ")"
   ]
  },
  {
   "cell_type": "code",
   "execution_count": 39,
   "metadata": {},
   "outputs": [
    {
     "name": "stdout",
     "output_type": "stream",
     "text": [
      "Epoch 1/100\n",
      "250/250 [==============================] - 17s 66ms/step - loss: 0.6869 - accuracy: 0.5422 - val_loss: 0.6583 - val_accuracy: 0.6265\n",
      "Epoch 2/100\n",
      "250/250 [==============================] - 17s 66ms/step - loss: 0.6545 - accuracy: 0.6110 - val_loss: 0.6156 - val_accuracy: 0.6780\n",
      "Epoch 3/100\n",
      "250/250 [==============================] - 17s 67ms/step - loss: 0.6154 - accuracy: 0.6634 - val_loss: 0.6021 - val_accuracy: 0.6925\n",
      "Epoch 4/100\n",
      "250/250 [==============================] - 17s 67ms/step - loss: 0.6079 - accuracy: 0.6749 - val_loss: 0.5905 - val_accuracy: 0.7005\n",
      "Epoch 5/100\n",
      "250/250 [==============================] - 17s 68ms/step - loss: 0.5989 - accuracy: 0.6891 - val_loss: 0.5990 - val_accuracy: 0.6825\n",
      "Epoch 6/100\n",
      "250/250 [==============================] - 17s 67ms/step - loss: 0.5849 - accuracy: 0.7067 - val_loss: 0.5773 - val_accuracy: 0.7135\n",
      "Epoch 7/100\n",
      "250/250 [==============================] - 17s 67ms/step - loss: 0.5804 - accuracy: 0.7090 - val_loss: 0.5812 - val_accuracy: 0.7045\n",
      "Epoch 8/100\n",
      "250/250 [==============================] - 17s 67ms/step - loss: 0.5712 - accuracy: 0.7204 - val_loss: 0.5780 - val_accuracy: 0.7155\n",
      "Epoch 9/100\n",
      "250/250 [==============================] - 16s 62ms/step - loss: 0.5563 - accuracy: 0.7390 - val_loss: 0.5628 - val_accuracy: 0.7315\n",
      "Epoch 10/100\n",
      "250/250 [==============================] - 16s 64ms/step - loss: 0.5601 - accuracy: 0.7369 - val_loss: 0.5578 - val_accuracy: 0.7395\n",
      "Epoch 11/100\n",
      "250/250 [==============================] - 16s 64ms/step - loss: 0.5482 - accuracy: 0.7477 - val_loss: 0.5583 - val_accuracy: 0.7340\n",
      "Epoch 12/100\n",
      "250/250 [==============================] - 16s 64ms/step - loss: 0.5435 - accuracy: 0.7563 - val_loss: 0.5498 - val_accuracy: 0.7540\n",
      "Epoch 13/100\n",
      "250/250 [==============================] - 16s 64ms/step - loss: 0.5411 - accuracy: 0.7600 - val_loss: 0.6021 - val_accuracy: 0.6810\n",
      "Epoch 14/100\n",
      "250/250 [==============================] - 16s 64ms/step - loss: 0.5374 - accuracy: 0.7607 - val_loss: 0.5592 - val_accuracy: 0.7355\n",
      "Epoch 15/100\n",
      "250/250 [==============================] - 16s 65ms/step - loss: 0.5310 - accuracy: 0.7686 - val_loss: 0.5500 - val_accuracy: 0.7455\n",
      "Epoch 16/100\n",
      "250/250 [==============================] - 16s 64ms/step - loss: 0.5298 - accuracy: 0.7716 - val_loss: 0.5408 - val_accuracy: 0.7530\n",
      "Epoch 17/100\n",
      "250/250 [==============================] - 17s 66ms/step - loss: 0.5192 - accuracy: 0.7840 - val_loss: 0.5378 - val_accuracy: 0.7575\n",
      "Epoch 18/100\n",
      "250/250 [==============================] - 17s 68ms/step - loss: 0.5170 - accuracy: 0.7862 - val_loss: 0.5388 - val_accuracy: 0.7620\n",
      "Epoch 19/100\n",
      "250/250 [==============================] - 17s 66ms/step - loss: 0.5131 - accuracy: 0.7899 - val_loss: 0.5287 - val_accuracy: 0.7720\n",
      "Epoch 20/100\n",
      "250/250 [==============================] - 17s 67ms/step - loss: 0.5105 - accuracy: 0.7911 - val_loss: 0.5254 - val_accuracy: 0.7725\n",
      "Epoch 21/100\n",
      "250/250 [==============================] - 16s 65ms/step - loss: 0.5000 - accuracy: 0.8050 - val_loss: 0.5273 - val_accuracy: 0.7795\n",
      "Epoch 22/100\n",
      "250/250 [==============================] - 16s 65ms/step - loss: 0.5012 - accuracy: 0.8016 - val_loss: 0.5272 - val_accuracy: 0.7705\n",
      "Epoch 23/100\n",
      "250/250 [==============================] - 16s 65ms/step - loss: 0.4951 - accuracy: 0.8101 - val_loss: 0.5207 - val_accuracy: 0.7775\n",
      "Epoch 24/100\n",
      "250/250 [==============================] - 17s 67ms/step - loss: 0.4885 - accuracy: 0.8195 - val_loss: 0.5370 - val_accuracy: 0.7595\n",
      "Epoch 25/100\n",
      "250/250 [==============================] - 17s 67ms/step - loss: 0.4892 - accuracy: 0.8161 - val_loss: 0.5357 - val_accuracy: 0.7615\n",
      "Epoch 26/100\n",
      "250/250 [==============================] - 16s 66ms/step - loss: 0.4831 - accuracy: 0.8230 - val_loss: 0.5216 - val_accuracy: 0.7795\n",
      "Epoch 27/100\n",
      "250/250 [==============================] - 17s 68ms/step - loss: 0.4856 - accuracy: 0.8209 - val_loss: 0.5176 - val_accuracy: 0.7815\n",
      "Epoch 28/100\n",
      "250/250 [==============================] - 16s 65ms/step - loss: 0.4748 - accuracy: 0.8341 - val_loss: 0.5200 - val_accuracy: 0.7765\n",
      "Epoch 29/100\n",
      "250/250 [==============================] - 17s 67ms/step - loss: 0.4747 - accuracy: 0.8349 - val_loss: 0.5488 - val_accuracy: 0.7515\n",
      "Epoch 30/100\n",
      "250/250 [==============================] - 17s 67ms/step - loss: 0.4706 - accuracy: 0.8374 - val_loss: 0.5200 - val_accuracy: 0.7845\n",
      "Epoch 31/100\n",
      "250/250 [==============================] - 17s 68ms/step - loss: 0.4626 - accuracy: 0.8465 - val_loss: 0.5203 - val_accuracy: 0.7835\n",
      "Epoch 32/100\n",
      "250/250 [==============================] - 17s 67ms/step - loss: 0.4631 - accuracy: 0.8461 - val_loss: 0.5185 - val_accuracy: 0.7855\n",
      "Epoch 33/100\n",
      "250/250 [==============================] - 17s 68ms/step - loss: 0.4625 - accuracy: 0.8447 - val_loss: 0.5229 - val_accuracy: 0.7755\n",
      "Epoch 34/100\n",
      "250/250 [==============================] - 17s 68ms/step - loss: 0.4507 - accuracy: 0.8572 - val_loss: 0.5177 - val_accuracy: 0.7880\n",
      "Epoch 35/100\n",
      "250/250 [==============================] - 17s 68ms/step - loss: 0.4492 - accuracy: 0.8591 - val_loss: 0.5096 - val_accuracy: 0.7965\n",
      "Epoch 36/100\n",
      "250/250 [==============================] - 17s 67ms/step - loss: 0.4473 - accuracy: 0.8618 - val_loss: 0.5420 - val_accuracy: 0.7595\n",
      "Epoch 37/100\n",
      "250/250 [==============================] - 17s 67ms/step - loss: 0.4486 - accuracy: 0.8627 - val_loss: 0.5106 - val_accuracy: 0.7875\n",
      "Epoch 38/100\n",
      "250/250 [==============================] - 17s 67ms/step - loss: 0.4434 - accuracy: 0.8669 - val_loss: 0.5185 - val_accuracy: 0.7820\n",
      "Epoch 39/100\n",
      "250/250 [==============================] - 17s 67ms/step - loss: 0.4442 - accuracy: 0.8674 - val_loss: 0.5356 - val_accuracy: 0.7630\n",
      "Epoch 40/100\n",
      "250/250 [==============================] - 17s 67ms/step - loss: 0.4382 - accuracy: 0.8712 - val_loss: 0.5230 - val_accuracy: 0.7815\n",
      "Epoch 41/100\n",
      "250/250 [==============================] - 17s 68ms/step - loss: 0.4325 - accuracy: 0.8766 - val_loss: 0.5151 - val_accuracy: 0.7870\n",
      "Epoch 42/100\n",
      "250/250 [==============================] - 17s 68ms/step - loss: 0.4312 - accuracy: 0.8792 - val_loss: 0.5201 - val_accuracy: 0.7780\n",
      "Epoch 43/100\n",
      "250/250 [==============================] - 17s 68ms/step - loss: 0.4272 - accuracy: 0.8855 - val_loss: 0.5204 - val_accuracy: 0.7775\n",
      "Epoch 44/100\n",
      "250/250 [==============================] - 17s 67ms/step - loss: 0.4279 - accuracy: 0.8836 - val_loss: 0.5207 - val_accuracy: 0.7810\n",
      "Epoch 45/100\n",
      "250/250 [==============================] - 17s 68ms/step - loss: 0.4184 - accuracy: 0.8960 - val_loss: 0.5170 - val_accuracy: 0.7850\n",
      "\n",
      "\n",
      "\n",
      "____________________________________________\n",
      "800.7575568619999\n",
      "____________________________________________\n",
      "\n",
      "\n",
      "\n"
     ]
    }
   ],
   "source": [
    "t = time.process_time()\n",
    "cnn.fit(x=training_set, validation_data=test_set, epochs=100, callbacks=[early_stopping])\n",
    "elapsed_time = time.process_time() - t\n",
    "print()\n",
    "print()\n",
    "print()\n",
    "print(\"____________________________________________\")\n",
    "print(elapsed_time)\n",
    "print(\"____________________________________________\")\n",
    "print()\n",
    "print()\n",
    "print()"
   ]
  },
  {
   "cell_type": "code",
   "execution_count": 19,
   "metadata": {},
   "outputs": [
    {
     "name": "stdout",
     "output_type": "stream",
     "text": [
      "63/63 - 3s - loss: 0.5021 - accuracy: 0.7960 - 3s/epoch - 40ms/step\n"
     ]
    },
    {
     "data": {
      "text/plain": [
       "[0.5020958185195923, 0.7960000038146973]"
      ]
     },
     "execution_count": 19,
     "metadata": {},
     "output_type": "execute_result"
    }
   ],
   "source": [
    "cnn.evaluate(test_set, verbose=2)"
   ]
  },
  {
   "cell_type": "code",
   "execution_count": 33,
   "metadata": {},
   "outputs": [
    {
     "name": "stdout",
     "output_type": "stream",
     "text": [
      "[[0.26894143 0.73105854]]\n"
     ]
    }
   ],
   "source": [
    "test_image = image.load_img('dataset/test_set/dogs/dog.4115.jpg', target_size = (64, 64))\n",
    "test_image = image.img_to_array(test_image)\n",
    "test_image = np.expand_dims(test_image, axis = 0)\n",
    "result = cnn.predict(test_image)\n",
    "print(result)"
   ]
  }
 ],
 "metadata": {
  "kernelspec": {
   "display_name": "Python 3 (ipykernel)",
   "language": "python",
   "name": "python3"
  },
  "language_info": {
   "codemirror_mode": {
    "name": "ipython",
    "version": 3
   },
   "file_extension": ".py",
   "mimetype": "text/x-python",
   "name": "python",
   "nbconvert_exporter": "python",
   "pygments_lexer": "ipython3",
   "version": "3.8.12"
  }
 },
 "nbformat": 4,
 "nbformat_minor": 1
}
