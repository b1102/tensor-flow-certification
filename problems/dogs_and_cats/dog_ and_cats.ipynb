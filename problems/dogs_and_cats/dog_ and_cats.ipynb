{
 "cells": [
  {
   "cell_type": "code",
   "execution_count": 1,
   "metadata": {},
   "outputs": [],
   "source": [
    "import tensorflow as tf\n",
    "from keras.preprocessing.image import ImageDataGenerator\n",
    "from keras.preprocessing import image\n",
    "import numpy as np"
   ]
  },
  {
   "cell_type": "code",
   "execution_count": 2,
   "metadata": {},
   "outputs": [
    {
     "name": "stdout",
     "output_type": "stream",
     "text": [
      "Found 8000 images belonging to 2 classes.\n"
     ]
    }
   ],
   "source": [
    "train_datagen = ImageDataGenerator(\n",
    "    rescale=1. / 255,\n",
    "    rotation_range=40,\n",
    "    width_shift_range=0.2,\n",
    "    height_shift_range=0.2,\n",
    "    shear_range=0.2,\n",
    "    zoom_range=0.2,\n",
    "    horizontal_flip=True,\n",
    "    fill_mode='nearest')\n",
    "training_set = train_datagen.flow_from_directory('dataset/training_set',\n",
    "                                                 target_size=(64, 64),\n",
    "                                                 batch_size=32,\n",
    "                                                 class_mode='binary')"
   ]
  },
  {
   "cell_type": "code",
   "execution_count": 3,
   "metadata": {},
   "outputs": [
    {
     "name": "stdout",
     "output_type": "stream",
     "text": [
      "Found 2000 images belonging to 2 classes.\n"
     ]
    }
   ],
   "source": [
    "test_datagen = ImageDataGenerator(rescale=1. / 255)\n",
    "test_set = test_datagen.flow_from_directory('dataset/test_set',\n",
    "                                            target_size=(64, 64),\n",
    "                                            batch_size=32,\n",
    "                                            class_mode='binary')"
   ]
  },
  {
   "cell_type": "code",
   "execution_count": 9,
   "metadata": {},
   "outputs": [],
   "source": [
    "cnn = tf.keras.models.Sequential()\n",
    "cnn.add(tf.keras.layers.Conv2D(filters=32, kernel_size=3, activation='relu', input_shape=[64, 64, 3]))\n",
    "cnn.add(tf.keras.layers.MaxPool2D(pool_size=2, strides=2))\n",
    "cnn.add(tf.keras.layers.Conv2D(filters=32, kernel_size=3, activation='relu'))\n",
    "cnn.add(tf.keras.layers.MaxPool2D(pool_size=2, strides=2))\n",
    "cnn.add(tf.keras.layers.Flatten())\n",
    "cnn.add(tf.keras.layers.Dense(units=128, activation='relu'))\n",
    "cnn.add(tf.keras.layers.Dense(units=1, activation=\"sigmoid\"))"
   ]
  },
  {
   "cell_type": "code",
   "execution_count": 10,
   "metadata": {},
   "outputs": [],
   "source": [
    "cnn.compile(optimizer='adam', loss=\"binary_crossentropy\", metrics=[\"accuracy\"])\n",
    "early_stopping = tf.keras.callbacks.EarlyStopping(\n",
    "    patience=10,\n",
    "    min_delta=0.001,\n",
    "    restore_best_weights=True,\n",
    ")"
   ]
  },
  {
   "cell_type": "code",
   "execution_count": 11,
   "metadata": {},
   "outputs": [
    {
     "name": "stdout",
     "output_type": "stream",
     "text": [
      "Epoch 1/20\n",
      "250/250 [==============================] - 39s 155ms/step - loss: 0.6777 - accuracy: 0.5620 - val_loss: 0.6713 - val_accuracy: 0.5585\n",
      "Epoch 2/20\n",
      "250/250 [==============================] - 39s 157ms/step - loss: 0.6437 - accuracy: 0.6269 - val_loss: 0.6012 - val_accuracy: 0.6925\n",
      "Epoch 3/20\n",
      "250/250 [==============================] - 42s 169ms/step - loss: 0.6174 - accuracy: 0.6590 - val_loss: 0.5962 - val_accuracy: 0.6625\n",
      "Epoch 4/20\n",
      "250/250 [==============================] - 41s 164ms/step - loss: 0.6043 - accuracy: 0.6660 - val_loss: 0.5849 - val_accuracy: 0.6930\n",
      "Epoch 5/20\n",
      "250/250 [==============================] - 41s 166ms/step - loss: 0.5855 - accuracy: 0.6806 - val_loss: 0.5954 - val_accuracy: 0.6745\n",
      "Epoch 6/20\n",
      "250/250 [==============================] - 42s 168ms/step - loss: 0.5800 - accuracy: 0.6935 - val_loss: 0.5384 - val_accuracy: 0.7320\n",
      "Epoch 7/20\n",
      "250/250 [==============================] - 42s 168ms/step - loss: 0.5693 - accuracy: 0.7053 - val_loss: 0.5580 - val_accuracy: 0.7135\n",
      "Epoch 8/20\n",
      "250/250 [==============================] - 43s 170ms/step - loss: 0.5692 - accuracy: 0.7055 - val_loss: 0.5125 - val_accuracy: 0.7370\n",
      "Epoch 9/20\n",
      "250/250 [==============================] - 42s 167ms/step - loss: 0.5571 - accuracy: 0.7132 - val_loss: 0.5072 - val_accuracy: 0.7475\n",
      "Epoch 10/20\n",
      "250/250 [==============================] - 41s 165ms/step - loss: 0.5480 - accuracy: 0.7196 - val_loss: 0.5198 - val_accuracy: 0.7400\n",
      "Epoch 11/20\n",
      "250/250 [==============================] - 40s 160ms/step - loss: 0.5458 - accuracy: 0.7195 - val_loss: 0.5121 - val_accuracy: 0.7385\n",
      "Epoch 12/20\n",
      "250/250 [==============================] - 41s 163ms/step - loss: 0.5435 - accuracy: 0.7269 - val_loss: 0.5384 - val_accuracy: 0.7180\n",
      "Epoch 13/20\n",
      "250/250 [==============================] - 41s 165ms/step - loss: 0.5405 - accuracy: 0.7314 - val_loss: 0.4835 - val_accuracy: 0.7705\n",
      "Epoch 14/20\n",
      "250/250 [==============================] - 39s 156ms/step - loss: 0.5336 - accuracy: 0.7279 - val_loss: 0.5166 - val_accuracy: 0.7375\n",
      "Epoch 15/20\n",
      "250/250 [==============================] - 39s 155ms/step - loss: 0.5343 - accuracy: 0.7234 - val_loss: 0.5620 - val_accuracy: 0.7035\n",
      "Epoch 16/20\n",
      "250/250 [==============================] - 39s 154ms/step - loss: 0.5362 - accuracy: 0.7261 - val_loss: 0.4691 - val_accuracy: 0.7745\n",
      "Epoch 17/20\n",
      "250/250 [==============================] - 39s 155ms/step - loss: 0.5219 - accuracy: 0.7418 - val_loss: 0.4741 - val_accuracy: 0.7680\n",
      "Epoch 18/20\n",
      "250/250 [==============================] - 40s 159ms/step - loss: 0.5199 - accuracy: 0.7435 - val_loss: 0.4944 - val_accuracy: 0.7575\n",
      "Epoch 19/20\n",
      "250/250 [==============================] - 40s 161ms/step - loss: 0.5140 - accuracy: 0.7450 - val_loss: 0.4613 - val_accuracy: 0.7810\n",
      "Epoch 20/20\n",
      "250/250 [==============================] - 42s 166ms/step - loss: 0.5130 - accuracy: 0.7461 - val_loss: 0.4548 - val_accuracy: 0.7950\n"
     ]
    }
   ],
   "source": [
    "history = cnn.fit(x=training_set, validation_data=test_set, epochs=20, callbacks=[early_stopping])"
   ]
  },
  {
   "cell_type": "code",
   "execution_count": 12,
   "metadata": {},
   "outputs": [
    {
     "name": "stdout",
     "output_type": "stream",
     "text": [
      "63/63 [==============================] - 5s 77ms/step - loss: 0.4548 - accuracy: 0.7950\n"
     ]
    },
    {
     "data": {
      "text/plain": "[0.454843670129776, 0.7950000166893005]"
     },
     "execution_count": 12,
     "metadata": {},
     "output_type": "execute_result"
    }
   ],
   "source": [
    "cnn.evaluate(test_set)"
   ]
  },
  {
   "cell_type": "code",
   "execution_count": 13,
   "metadata": {},
   "outputs": [
    {
     "name": "stdout",
     "output_type": "stream",
     "text": [
      "[[1.]]\n"
     ]
    }
   ],
   "source": [
    "test_image = image.load_img('dataset/test_set/dogs/dog.4115.jpg', target_size=(64, 64))\n",
    "test_image = image.img_to_array(test_image)\n",
    "test_image = np.expand_dims(test_image, axis=0)\n",
    "result = cnn.predict(test_image)\n",
    "print(result)"
   ]
  },
  {
   "cell_type": "code",
   "execution_count": 15,
   "metadata": {},
   "outputs": [
    {
     "data": {
      "text/plain": "Text(0.5, 1.0, 'Training and validation loss')"
     },
     "execution_count": 15,
     "metadata": {},
     "output_type": "execute_result"
    },
    {
     "data": {
      "text/plain": "<Figure size 432x288 with 1 Axes>",
      "image/png": "[encoded data removed]"
     },
     "metadata": {
      "needs_background": "light"
     },
     "output_type": "display_data"
    },
    {
     "data": {
      "text/plain": "<Figure size 432x288 with 1 Axes>",
      "image/png": "[encoded data removed]"
     },
     "metadata": {
      "needs_background": "light"
     },
     "output_type": "display_data"
    }
   ],
   "source": [
    "import matplotlib.pyplot as plt\n",
    "\n",
    "#-----------------------------------------------------------\n",
    "# Retrieve a list of list results on training and test data\n",
    "# sets for each training epoch\n",
    "#-----------------------------------------------------------\n",
    "acc = history.history['accuracy']\n",
    "val_acc = history.history['val_accuracy']\n",
    "loss = history.history['loss']\n",
    "val_loss = history.history['val_loss']\n",
    "\n",
    "epochs = range(len(acc))  # Get number of epochs\n",
    "\n",
    "#------------------------------------------------\n",
    "# Plot training and validation accuracy per epoch\n",
    "#------------------------------------------------\n",
    "plt.plot(epochs, acc, label='training accuracy')\n",
    "plt.plot(epochs, val_acc, label='validation accuracy')\n",
    "plt.legend(loc=\"upper left\")\n",
    "plt.title('Training and validation accuracy')\n",
    "plt.figure()\n",
    "\n",
    "#------------------------------------------------\n",
    "# Plot training and validation loss per epoch\n",
    "#------------------------------------------------\n",
    "plt.plot(epochs, loss)\n",
    "plt.plot(epochs, val_loss)\n",
    "plt.title('Training and validation loss')"
   ]
  }
 ],
 "metadata": {
  "kernelspec": {
   "display_name": "Python 3 (ipykernel)",
   "language": "python",
   "name": "python3"
  },
  "language_info": {
   "codemirror_mode": {
    "name": "ipython",
    "version": 3
   },
   "file_extension": ".py",
   "mimetype": "text/x-python",
   "name": "python",
   "nbconvert_exporter": "python",
   "pygments_lexer": "ipython3",
   "version": "3.8.12"
  }
 },
 "nbformat": 4,
 "nbformat_minor": 1
}