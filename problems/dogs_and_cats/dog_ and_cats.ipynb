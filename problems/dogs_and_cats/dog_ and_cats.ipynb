{
 "cells": [
  {
   "cell_type": "code",
   "execution_count": 1,
   "metadata": {},
   "outputs": [],
   "source": [
    "import tensorflow as tf\n",
    "from keras.preprocessing.image import ImageDataGenerator\n",
    "from keras.preprocessing import image\n",
    "import numpy as np"
   ]
  },
  {
   "cell_type": "code",
   "execution_count": 2,
   "metadata": {},
   "outputs": [
    {
     "name": "stdout",
     "output_type": "stream",
     "text": [
      "Found 8000 images belonging to 2 classes.\n"
     ]
    }
   ],
   "source": [
    "train_datagen = ImageDataGenerator(\n",
    "      rescale=1./255,\n",
    "      rotation_range=40,\n",
    "      width_shift_range=0.2,\n",
    "      height_shift_range=0.2,\n",
    "      shear_range=0.2,\n",
    "      zoom_range=0.2,\n",
    "      horizontal_flip=True,\n",
    "      fill_mode='nearest')\n",
    "training_set = train_datagen.flow_from_directory('dataset/training_set',\n",
    "                                                 target_size=(64, 64),\n",
    "                                                 batch_size=32,\n",
    "                                                 class_mode='categorical')"
   ]
  },
  {
   "cell_type": "code",
   "execution_count": 3,
   "metadata": {},
   "outputs": [
    {
     "name": "stdout",
     "output_type": "stream",
     "text": [
      "Found 2000 images belonging to 2 classes.\n"
     ]
    }
   ],
   "source": [
    "test_datagen = ImageDataGenerator(rescale=1. / 255)\n",
    "test_set = test_datagen.flow_from_directory('dataset/test_set',\n",
    "                                            target_size=(64, 64),\n",
    "                                            batch_size=32,\n",
    "                                            class_mode='categorical')"
   ]
  },
  {
   "cell_type": "code",
   "execution_count": 5,
   "metadata": {},
   "outputs": [],
   "source": [
    "cnn = tf.keras.models.Sequential()\n",
    "cnn.add(tf.keras.layers.Conv2D(filters=32, kernel_size=3, activation='relu', input_shape=[64, 64, 3]))\n",
    "cnn.add(tf.keras.layers.MaxPool2D(pool_size=2, strides=2))\n",
    "cnn.add(tf.keras.layers.Conv2D(filters=32, kernel_size=3, activation='relu'))\n",
    "cnn.add(tf.keras.layers.MaxPool2D(pool_size=2, strides=2))\n",
    "cnn.add(tf.keras.layers.Flatten())\n",
    "cnn.add(tf.keras.layers.Dense(units=128, activation='relu'))\n",
    "cnn.add(tf.keras.layers.Dense(units=2, activation=\"sigmoid\"))\n",
    "cnn.add(tf.keras.layers.Softmax())"
   ]
  },
  {
   "cell_type": "code",
   "execution_count": 6,
   "metadata": {},
   "outputs": [],
   "source": [
    "cnn.compile(optimizer='adam', loss=\"categorical_crossentropy\", metrics=[\"accuracy\"])\n",
    "early_stopping = tf.keras.callbacks.EarlyStopping(\n",
    "    patience=10,\n",
    "    min_delta=0.001,\n",
    "    restore_best_weights=True,\n",
    ")"
   ]
  },
  {
   "cell_type": "code",
   "execution_count": 8,
   "metadata": {},
   "outputs": [
    {
     "name": "stdout",
     "output_type": "stream",
     "text": [
      "Epoch 1/20\n",
      "250/250 [==============================] - 45s 178ms/step - loss: 0.6715 - accuracy: 0.5816 - val_loss: 0.6308 - val_accuracy: 0.6460\n",
      "Epoch 2/20\n",
      "250/250 [==============================] - 38s 153ms/step - loss: 0.6419 - accuracy: 0.6350 - val_loss: 0.6261 - val_accuracy: 0.6555\n",
      "Epoch 3/20\n",
      "250/250 [==============================] - 42s 170ms/step - loss: 0.6268 - accuracy: 0.6543 - val_loss: 0.6093 - val_accuracy: 0.6845\n",
      "Epoch 4/20\n",
      "250/250 [==============================] - 46s 182ms/step - loss: 0.6140 - accuracy: 0.6758 - val_loss: 0.5849 - val_accuracy: 0.7090\n",
      "Epoch 5/20\n",
      "250/250 [==============================] - 39s 155ms/step - loss: 0.6069 - accuracy: 0.6775 - val_loss: 0.5997 - val_accuracy: 0.6880\n",
      "Epoch 6/20\n",
      "250/250 [==============================] - 42s 169ms/step - loss: 0.6040 - accuracy: 0.6848 - val_loss: 0.5882 - val_accuracy: 0.6975\n",
      "Epoch 7/20\n",
      "250/250 [==============================] - 43s 171ms/step - loss: 0.5956 - accuracy: 0.6930 - val_loss: 0.5724 - val_accuracy: 0.7235\n",
      "Epoch 8/20\n",
      "250/250 [==============================] - 43s 173ms/step - loss: 0.5863 - accuracy: 0.7036 - val_loss: 0.5536 - val_accuracy: 0.7330\n",
      "Epoch 9/20\n",
      "250/250 [==============================] - 42s 169ms/step - loss: 0.5843 - accuracy: 0.7048 - val_loss: 0.5531 - val_accuracy: 0.7410\n",
      "Epoch 10/20\n",
      "250/250 [==============================] - 47s 187ms/step - loss: 0.5811 - accuracy: 0.7086 - val_loss: 0.5520 - val_accuracy: 0.7455\n",
      "Epoch 11/20\n",
      "250/250 [==============================] - 43s 173ms/step - loss: 0.5824 - accuracy: 0.7041 - val_loss: 0.5495 - val_accuracy: 0.7490\n",
      "Epoch 12/20\n",
      "250/250 [==============================] - 42s 169ms/step - loss: 0.5746 - accuracy: 0.7225 - val_loss: 0.5542 - val_accuracy: 0.7430\n",
      "Epoch 13/20\n",
      "250/250 [==============================] - 41s 165ms/step - loss: 0.5704 - accuracy: 0.7258 - val_loss: 0.5368 - val_accuracy: 0.7645\n",
      "Epoch 14/20\n",
      "250/250 [==============================] - 42s 166ms/step - loss: 0.5706 - accuracy: 0.7224 - val_loss: 0.5459 - val_accuracy: 0.7470\n",
      "Epoch 15/20\n",
      "250/250 [==============================] - 42s 168ms/step - loss: 0.5675 - accuracy: 0.7270 - val_loss: 0.5526 - val_accuracy: 0.7400\n",
      "Epoch 16/20\n",
      "250/250 [==============================] - 41s 163ms/step - loss: 0.5684 - accuracy: 0.7256 - val_loss: 0.5502 - val_accuracy: 0.7490\n",
      "Epoch 17/20\n",
      "250/250 [==============================] - 42s 168ms/step - loss: 0.5626 - accuracy: 0.7305 - val_loss: 0.5353 - val_accuracy: 0.7605\n",
      "Epoch 18/20\n",
      "250/250 [==============================] - 42s 169ms/step - loss: 0.5627 - accuracy: 0.7309 - val_loss: 0.5314 - val_accuracy: 0.7660\n",
      "Epoch 19/20\n",
      "250/250 [==============================] - 42s 169ms/step - loss: 0.5565 - accuracy: 0.7406 - val_loss: 0.5321 - val_accuracy: 0.7730\n",
      "Epoch 20/20\n",
      "250/250 [==============================] - 41s 164ms/step - loss: 0.5650 - accuracy: 0.7276 - val_loss: 0.5290 - val_accuracy: 0.7745\n"
     ]
    }
   ],
   "source": [
    "history = cnn.fit(x=training_set, validation_data=test_set, epochs=20, callbacks=[early_stopping])"
   ]
  },
  {
   "cell_type": "code",
   "execution_count": 9,
   "metadata": {},
   "outputs": [
    {
     "name": "stdout",
     "output_type": "stream",
     "text": [
      "63/63 - 6s - loss: 0.5290 - accuracy: 0.7745 - 6s/epoch - 95ms/step\n"
     ]
    },
    {
     "data": {
      "text/plain": [
       "[0.5290075540542603, 0.7745000123977661]"
      ]
     },
     "execution_count": 9,
     "metadata": {},
     "output_type": "execute_result"
    }
   ],
   "source": [
    "cnn.evaluate(test_set, verbose=2)"
   ]
  },
  {
   "cell_type": "code",
   "execution_count": 10,
   "metadata": {},
   "outputs": [
    {
     "name": "stdout",
     "output_type": "stream",
     "text": [
      "[[0.26894143 0.7310586 ]]\n"
     ]
    }
   ],
   "source": [
    "test_image = image.load_img('dataset/test_set/dogs/dog.4115.jpg', target_size=(64, 64))\n",
    "test_image = image.img_to_array(test_image)\n",
    "test_image = np.expand_dims(test_image, axis=0)\n",
    "result = cnn.predict(test_image)\n",
    "print(result)"
   ]
  },
  {
   "cell_type": "code",
   "execution_count": 14,
   "metadata": {},
   "outputs": [
    {
     "data": {
      "text/plain": [
       "Text(0.5, 1.0, 'Training and validation loss')"
      ]
     },
     "execution_count": 14,
     "metadata": {},
     "output_type": "execute_result"
    },
    {
     "data": {
      "image/png": "[encoded data removed]",
      "text/plain": [
       "<Figure size 432x288 with 1 Axes>"
      ]
     },
     "metadata": {
      "needs_background": "light"
     },
     "output_type": "display_data"
    },
    {
     "data": {
      "image/png": "[encoded data removed]",
      "text/plain": [
       "<Figure size 432x288 with 1 Axes>"
      ]
     },
     "metadata": {
      "needs_background": "light"
     },
     "output_type": "display_data"
    }
   ],
   "source": [
    "import matplotlib.pyplot as plt\n",
    "\n",
    "#-----------------------------------------------------------\n",
    "# Retrieve a list of list results on training and test data\n",
    "# sets for each training epoch\n",
    "#-----------------------------------------------------------\n",
    "acc      = history.history[     'accuracy' ]\n",
    "val_acc  = history.history[ 'val_accuracy' ]\n",
    "loss     = history.history[    'loss' ]\n",
    "val_loss = history.history['val_loss' ]\n",
    "\n",
    "epochs   = range(len(acc)) # Get number of epochs\n",
    "\n",
    "#------------------------------------------------\n",
    "# Plot training and validation accuracy per epoch\n",
    "#------------------------------------------------\n",
    "plt.plot  ( epochs,     acc, label = 'training accuracy' )\n",
    "plt.plot  ( epochs, val_acc, label = 'validation accuracy')\n",
    "plt.legend(loc=\"upper left\")\n",
    "plt.title ('Training and validation accuracy')\n",
    "plt.figure()\n",
    "\n",
    "#------------------------------------------------\n",
    "# Plot training and validation loss per epoch\n",
    "#------------------------------------------------\n",
    "plt.plot  ( epochs,     loss )\n",
    "plt.plot  ( epochs, val_loss )\n",
    "plt.title ('Training and validation loss')"
   ]
  }
 ],
 "metadata": {
  "kernelspec": {
   "display_name": "Python 3 (ipykernel)",
   "language": "python",
   "name": "python3"
  },
  "language_info": {
   "codemirror_mode": {
    "name": "ipython",
    "version": 3
   },
   "file_extension": ".py",
   "mimetype": "text/x-python",
   "name": "python",
   "nbconvert_exporter": "python",
   "pygments_lexer": "ipython3",
   "version": "3.8.12"
  }
 },
 "nbformat": 4,
 "nbformat_minor": 1
}