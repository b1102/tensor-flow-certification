{
 "cells": [
  {
   "cell_type": "markdown",
   "metadata": {
    "id": "lP6JLo1tGNBg"
   },
   "source": [
    "# Artificial Neural Network"
   ]
  },
  {
   "cell_type": "markdown",
   "metadata": {
    "id": "gWZyYmS_UE_L"
   },
   "source": [
    "### Importing the libraries"
   ]
  },
  {
   "cell_type": "code",
   "execution_count": 7,
   "metadata": {
    "id": "MxkJoQBkUIHC"
   },
   "outputs": [],
   "source": [
    "import numpy as np\n",
    "import pandas as pd\n",
    "import tensorflow as tf"
   ]
  },
  {
   "cell_type": "markdown",
   "metadata": {
    "id": "1E0Q3aoKUCRX"
   },
   "source": [
    "## Part 1 - Data Preprocessing"
   ]
  },
  {
   "cell_type": "markdown",
   "metadata": {
    "id": "cKWAkFVGUU0Z"
   },
   "source": [
    "### Importing the dataset"
   ]
  },
  {
   "cell_type": "code",
   "execution_count": 9,
   "metadata": {
    "id": "MXUkhkMfU4wq"
   },
   "outputs": [],
   "source": [
    "dataset = pd.read_csv('Churn_Modelling.csv')\n",
    "X = dataset.iloc[:, 3:-1].values\n",
    "y = dataset.iloc[:, -1].values"
   ]
  },
  {
   "cell_type": "code",
   "execution_count": 10,
   "metadata": {
    "colab": {
     "base_uri": "https://localhost:8080/"
    },
    "executionInfo": {
     "elapsed": 445,
     "status": "ok",
     "timestamp": 1608305025413,
     "user": {
      "displayName": "Jordan Sauchuk",
      "photoUrl": "",
      "userId": "08387430205938821804"
     },
     "user_tz": 300
    },
    "id": "VYP9cQTWbzuI",
    "outputId": "7907b146-d8c0-48da-cba6-07c0260df674"
   },
   "outputs": [
    {
     "name": "stdout",
     "output_type": "stream",
     "text": [
      "[[619 'France' 'Female' ... 1 1 101348.88]\n",
      " [608 'Spain' 'Female' ... 0 1 112542.58]\n",
      " [502 'France' 'Female' ... 1 0 113931.57]\n",
      " ...\n",
      " [709 'France' 'Female' ... 0 1 42085.58]\n",
      " [772 'Germany' 'Male' ... 1 0 92888.52]\n",
      " [792 'France' 'Female' ... 1 0 38190.78]]\n"
     ]
    }
   ],
   "source": [
    "print(X)"
   ]
  },
  {
   "cell_type": "code",
   "execution_count": 11,
   "metadata": {
    "colab": {
     "base_uri": "https://localhost:8080/"
    },
    "executionInfo": {
     "elapsed": 424,
     "status": "ok",
     "timestamp": 1608305027117,
     "user": {
      "displayName": "Jordan Sauchuk",
      "photoUrl": "",
      "userId": "08387430205938821804"
     },
     "user_tz": 300
    },
    "id": "38vKGE6Nb2RR",
    "outputId": "850b3933-71ef-4207-9472-ad9cd0aa007f"
   },
   "outputs": [
    {
     "name": "stdout",
     "output_type": "stream",
     "text": [
      "[1 0 1 ... 1 1 0]\n"
     ]
    }
   ],
   "source": [
    "print(y)"
   ]
  },
  {
   "cell_type": "markdown",
   "metadata": {
    "id": "N6bQ0UgSU-NJ"
   },
   "source": [
    "### Encoding categorical data"
   ]
  },
  {
   "cell_type": "markdown",
   "metadata": {
    "id": "le5MJreAbW52"
   },
   "source": [
    "Label Encoding the \"Gender\" column"
   ]
  },
  {
   "cell_type": "code",
   "execution_count": 12,
   "metadata": {
    "id": "PxVKWXxLbczC"
   },
   "outputs": [],
   "source": [
    "from sklearn.preprocessing import LabelEncoder\n",
    "le = LabelEncoder()\n",
    "X[:, 2] = le.fit_transform(X[:, 2])"
   ]
  },
  {
   "cell_type": "code",
   "execution_count": 13,
   "metadata": {
    "colab": {
     "base_uri": "https://localhost:8080/"
    },
    "executionInfo": {
     "elapsed": 732,
     "status": "ok",
     "timestamp": 1608305031426,
     "user": {
      "displayName": "Jordan Sauchuk",
      "photoUrl": "",
      "userId": "08387430205938821804"
     },
     "user_tz": 300
    },
    "id": "-M1KboxFb6OO",
    "outputId": "7898d33d-e9f2-4874-e602-81a64fa0b9a4"
   },
   "outputs": [
    {
     "name": "stdout",
     "output_type": "stream",
     "text": [
      "[[619 'France' 0 ... 1 1 101348.88]\n",
      " [608 'Spain' 0 ... 0 1 112542.58]\n",
      " [502 'France' 0 ... 1 0 113931.57]\n",
      " ...\n",
      " [709 'France' 0 ... 0 1 42085.58]\n",
      " [772 'Germany' 1 ... 1 0 92888.52]\n",
      " [792 'France' 0 ... 1 0 38190.78]]\n"
     ]
    }
   ],
   "source": [
    "print(X)"
   ]
  },
  {
   "cell_type": "markdown",
   "metadata": {
    "id": "CUxGZezpbMcb"
   },
   "source": [
    "One Hot Encoding the \"Geography\" column"
   ]
  },
  {
   "cell_type": "code",
   "execution_count": 10,
   "metadata": {
    "id": "AMXC8-KMVirw"
   },
   "outputs": [],
   "source": [
    "from sklearn.compose import ColumnTransformer\n",
    "from sklearn.preprocessing import OneHotEncoder\n",
    "ct = ColumnTransformer(transformers=[('encoder', OneHotEncoder(), [1])], remainder='passthrough')\n",
    "X = np.array(ct.fit_transform(X))"
   ]
  },
  {
   "cell_type": "code",
   "execution_count": 11,
   "metadata": {
    "colab": {
     "base_uri": "https://localhost:8080/"
    },
    "executionInfo": {
     "elapsed": 321,
     "status": "ok",
     "timestamp": 1608305034330,
     "user": {
      "displayName": "Jordan Sauchuk",
      "photoUrl": "",
      "userId": "08387430205938821804"
     },
     "user_tz": 300
    },
    "id": "ZcxwEon-b8nV",
    "outputId": "62108591-411a-4b9f-a4bc-5b9fb2540b3f"
   },
   "outputs": [
    {
     "name": "stdout",
     "output_type": "stream",
     "text": [
      "[[1.0 0.0 0.0 ... 1 1 101348.88]\n",
      " [0.0 0.0 1.0 ... 0 1 112542.58]\n",
      " [1.0 0.0 0.0 ... 1 0 113931.57]\n",
      " ...\n",
      " [1.0 0.0 0.0 ... 0 1 42085.58]\n",
      " [0.0 1.0 0.0 ... 1 0 92888.52]\n",
      " [1.0 0.0 0.0 ... 1 0 38190.78]]\n"
     ]
    }
   ],
   "source": [
    "print(X)"
   ]
  },
  {
   "cell_type": "markdown",
   "metadata": {
    "id": "vHol938cW8zd"
   },
   "source": [
    "### Splitting the dataset into the Training set and Test set"
   ]
  },
  {
   "cell_type": "code",
   "execution_count": 12,
   "metadata": {
    "id": "Z-TDt0Y_XEfc"
   },
   "outputs": [],
   "source": [
    "from sklearn.model_selection import train_test_split\n",
    "X_train, X_test, y_train, y_test = train_test_split(X, y, test_size = 0.2, random_state = 0)"
   ]
  },
  {
   "cell_type": "markdown",
   "metadata": {
    "id": "RE_FcHyfV3TQ"
   },
   "source": [
    "### Feature Scaling"
   ]
  },
  {
   "cell_type": "code",
   "execution_count": 13,
   "metadata": {
    "id": "ViCrE00rV8Sk"
   },
   "outputs": [],
   "source": [
    "from sklearn.preprocessing import StandardScaler\n",
    "sc = StandardScaler()\n",
    "X_train = sc.fit_transform(X_train)\n",
    "X_test = sc.transform(X_test)"
   ]
  },
  {
   "cell_type": "markdown",
   "metadata": {
    "id": "-zfEzkRVXIwF"
   },
   "source": [
    "## Part 2 - Building the ANN"
   ]
  },
  {
   "cell_type": "markdown",
   "metadata": {
    "id": "KvdeScabXtlB"
   },
   "source": [
    "### Initializing the ANN"
   ]
  },
  {
   "cell_type": "code",
   "execution_count": 14,
   "metadata": {
    "id": "3dtrScHxXQox"
   },
   "outputs": [],
   "source": [
    "ann = tf.keras.models.Sequential()"
   ]
  },
  {
   "cell_type": "markdown",
   "metadata": {
    "id": "rP6urV6SX7kS"
   },
   "source": [
    "### Adding the input layer and the first hidden layer"
   ]
  },
  {
   "cell_type": "code",
   "execution_count": 16,
   "metadata": {
    "id": "bppGycBXYCQr"
   },
   "outputs": [],
   "source": [
    "ann.add(tf.keras.layers.Dense(units=16, activation='relu'))"
   ]
  },
  {
   "cell_type": "markdown",
   "metadata": {
    "id": "BELWAc_8YJze"
   },
   "source": [
    "### Adding the second hidden layer"
   ]
  },
  {
   "cell_type": "code",
   "execution_count": 17,
   "metadata": {
    "id": "JneR0u0sYRTd"
   },
   "outputs": [],
   "source": [
    "ann.add(tf.keras.layers.Dense(units=16, activation='relu'))"
   ]
  },
  {
   "cell_type": "markdown",
   "metadata": {
    "id": "OyNEe6RXYcU4"
   },
   "source": [
    "### Adding the output layer"
   ]
  },
  {
   "cell_type": "code",
   "execution_count": 18,
   "metadata": {
    "id": "Cn3x41RBYfvY"
   },
   "outputs": [],
   "source": [
    "ann.add(tf.keras.layers.Dense(units=1, activation='sigmoid'))"
   ]
  },
  {
   "cell_type": "markdown",
   "metadata": {
    "id": "JT4u2S1_Y4WG"
   },
   "source": [
    "## Part 3 - Training the ANN"
   ]
  },
  {
   "cell_type": "markdown",
   "metadata": {
    "id": "8GWlJChhY_ZI"
   },
   "source": [
    "### Compiling the ANN"
   ]
  },
  {
   "cell_type": "code",
   "execution_count": 19,
   "metadata": {
    "id": "fG3RrwDXZEaS"
   },
   "outputs": [],
   "source": [
    "ann.compile(optimizer = 'adam', loss = 'binary_crossentropy', metrics = ['accuracy'])"
   ]
  },
  {
   "cell_type": "markdown",
   "metadata": {
    "id": "0QR_G5u7ZLSM"
   },
   "source": [
    "### Training the ANN on the Training set"
   ]
  },
  {
   "cell_type": "code",
   "execution_count": 20,
   "metadata": {
    "colab": {
     "base_uri": "https://localhost:8080/"
    },
    "executionInfo": {
     "elapsed": 27021,
     "status": "ok",
     "timestamp": 1608305074652,
     "user": {
      "displayName": "Jordan Sauchuk",
      "photoUrl": "",
      "userId": "08387430205938821804"
     },
     "user_tz": 300
    },
    "id": "nHZ-LKv_ZRb3",
    "outputId": "fb23cadb-6847-4385-bd99-86cd61e37066"
   },
   "outputs": [
    {
     "name": "stdout",
     "output_type": "stream",
     "text": [
      "Epoch 1/100\n",
      "250/250 [==============================] - 1s 935us/step - loss: 0.5570 - accuracy: 0.7927\n",
      "Epoch 2/100\n",
      "250/250 [==============================] - 0s 788us/step - loss: 0.4552 - accuracy: 0.8012\n",
      "Epoch 3/100\n",
      "250/250 [==============================] - 0s 827us/step - loss: 0.4290 - accuracy: 0.8199\n",
      "Epoch 4/100\n",
      "250/250 [==============================] - 0s 825us/step - loss: 0.4101 - accuracy: 0.8249\n",
      "Epoch 5/100\n",
      "250/250 [==============================] - 0s 814us/step - loss: 0.4124 - accuracy: 0.8189\n",
      "Epoch 6/100\n",
      "250/250 [==============================] - 0s 817us/step - loss: 0.4181 - accuracy: 0.8180\n",
      "Epoch 7/100\n",
      "250/250 [==============================] - 0s 806us/step - loss: 0.3928 - accuracy: 0.8335\n",
      "Epoch 8/100\n",
      "250/250 [==============================] - 0s 797us/step - loss: 0.3847 - accuracy: 0.8322\n",
      "Epoch 9/100\n",
      "250/250 [==============================] - 0s 879us/step - loss: 0.3869 - accuracy: 0.8364\n",
      "Epoch 10/100\n",
      "250/250 [==============================] - 0s 1ms/step - loss: 0.3700 - accuracy: 0.8469\n",
      "Epoch 11/100\n",
      "250/250 [==============================] - 0s 833us/step - loss: 0.3739 - accuracy: 0.8454\n",
      "Epoch 12/100\n",
      "250/250 [==============================] - 0s 798us/step - loss: 0.3644 - accuracy: 0.8470\n",
      "Epoch 13/100\n",
      "250/250 [==============================] - 0s 832us/step - loss: 0.3519 - accuracy: 0.8544\n",
      "Epoch 14/100\n",
      "250/250 [==============================] - 0s 921us/step - loss: 0.3523 - accuracy: 0.8558\n",
      "Epoch 15/100\n",
      "250/250 [==============================] - 0s 909us/step - loss: 0.3539 - accuracy: 0.8516\n",
      "Epoch 16/100\n",
      "250/250 [==============================] - 0s 869us/step - loss: 0.3556 - accuracy: 0.8505\n",
      "Epoch 17/100\n",
      "250/250 [==============================] - 0s 801us/step - loss: 0.3423 - accuracy: 0.8604\n",
      "Epoch 18/100\n",
      "250/250 [==============================] - 0s 855us/step - loss: 0.3525 - accuracy: 0.8519\n",
      "Epoch 19/100\n",
      "250/250 [==============================] - 0s 852us/step - loss: 0.3326 - accuracy: 0.8613\n",
      "Epoch 20/100\n",
      "250/250 [==============================] - 0s 719us/step - loss: 0.3380 - accuracy: 0.8587\n",
      "Epoch 21/100\n",
      "250/250 [==============================] - 0s 740us/step - loss: 0.3381 - accuracy: 0.8603\n",
      "Epoch 22/100\n",
      "250/250 [==============================] - 0s 762us/step - loss: 0.3396 - accuracy: 0.8575\n",
      "Epoch 23/100\n",
      "250/250 [==============================] - 0s 880us/step - loss: 0.3353 - accuracy: 0.8651\n",
      "Epoch 24/100\n",
      "250/250 [==============================] - 0s 886us/step - loss: 0.3334 - accuracy: 0.8639\n",
      "Epoch 25/100\n",
      "250/250 [==============================] - 0s 889us/step - loss: 0.3420 - accuracy: 0.8637\n",
      "Epoch 26/100\n",
      "250/250 [==============================] - 0s 875us/step - loss: 0.3369 - accuracy: 0.8623\n",
      "Epoch 27/100\n",
      "250/250 [==============================] - 0s 884us/step - loss: 0.3387 - accuracy: 0.8591\n",
      "Epoch 28/100\n",
      "250/250 [==============================] - 0s 879us/step - loss: 0.3312 - accuracy: 0.8640\n",
      "Epoch 29/100\n",
      "250/250 [==============================] - 0s 1ms/step - loss: 0.3188 - accuracy: 0.8698\n",
      "Epoch 30/100\n",
      "250/250 [==============================] - 0s 804us/step - loss: 0.3281 - accuracy: 0.8657\n",
      "Epoch 31/100\n",
      "250/250 [==============================] - 0s 801us/step - loss: 0.3267 - accuracy: 0.8671\n",
      "Epoch 32/100\n",
      "250/250 [==============================] - 0s 793us/step - loss: 0.3315 - accuracy: 0.8644\n",
      "Epoch 33/100\n",
      "250/250 [==============================] - 0s 822us/step - loss: 0.3286 - accuracy: 0.8646\n",
      "Epoch 34/100\n",
      "250/250 [==============================] - 0s 867us/step - loss: 0.3266 - accuracy: 0.8689\n",
      "Epoch 35/100\n",
      "250/250 [==============================] - 0s 796us/step - loss: 0.3193 - accuracy: 0.8721\n",
      "Epoch 36/100\n",
      "250/250 [==============================] - 0s 920us/step - loss: 0.3283 - accuracy: 0.8617\n",
      "Epoch 37/100\n",
      "250/250 [==============================] - 0s 923us/step - loss: 0.3214 - accuracy: 0.8669\n",
      "Epoch 38/100\n",
      "250/250 [==============================] - 0s 809us/step - loss: 0.3278 - accuracy: 0.8666\n",
      "Epoch 39/100\n",
      "250/250 [==============================] - 0s 768us/step - loss: 0.3208 - accuracy: 0.8687\n",
      "Epoch 40/100\n",
      "250/250 [==============================] - 0s 818us/step - loss: 0.3247 - accuracy: 0.8691\n",
      "Epoch 41/100\n",
      "250/250 [==============================] - 0s 906us/step - loss: 0.3203 - accuracy: 0.8681\n",
      "Epoch 42/100\n",
      "250/250 [==============================] - 0s 934us/step - loss: 0.3307 - accuracy: 0.8642\n",
      "Epoch 43/100\n",
      "250/250 [==============================] - 0s 893us/step - loss: 0.3255 - accuracy: 0.8693\n",
      "Epoch 44/100\n",
      "250/250 [==============================] - 0s 925us/step - loss: 0.3375 - accuracy: 0.8594\n",
      "Epoch 45/100\n",
      "250/250 [==============================] - 0s 908us/step - loss: 0.3385 - accuracy: 0.8608\n",
      "Epoch 46/100\n",
      "250/250 [==============================] - 0s 1ms/step - loss: 0.3197 - accuracy: 0.8660\n",
      "Epoch 47/100\n",
      "250/250 [==============================] - 0s 985us/step - loss: 0.3227 - accuracy: 0.8681\n",
      "Epoch 48/100\n",
      "250/250 [==============================] - 0s 890us/step - loss: 0.3261 - accuracy: 0.8686\n",
      "Epoch 49/100\n",
      "250/250 [==============================] - 0s 793us/step - loss: 0.3230 - accuracy: 0.8672\n",
      "Epoch 50/100\n",
      "250/250 [==============================] - 0s 809us/step - loss: 0.3300 - accuracy: 0.8629\n",
      "Epoch 51/100\n",
      "250/250 [==============================] - 0s 906us/step - loss: 0.3262 - accuracy: 0.8659\n",
      "Epoch 52/100\n",
      "250/250 [==============================] - 0s 1ms/step - loss: 0.3409 - accuracy: 0.8608\n",
      "Epoch 53/100\n",
      "250/250 [==============================] - 0s 786us/step - loss: 0.3233 - accuracy: 0.8670\n",
      "Epoch 54/100\n",
      "250/250 [==============================] - 0s 871us/step - loss: 0.3280 - accuracy: 0.8624\n",
      "Epoch 55/100\n",
      "250/250 [==============================] - 0s 732us/step - loss: 0.3307 - accuracy: 0.8647\n",
      "Epoch 56/100\n",
      "250/250 [==============================] - 0s 740us/step - loss: 0.3332 - accuracy: 0.8588\n",
      "Epoch 57/100\n",
      "250/250 [==============================] - 0s 986us/step - loss: 0.3239 - accuracy: 0.8648\n",
      "Epoch 58/100\n",
      "250/250 [==============================] - 0s 983us/step - loss: 0.3243 - accuracy: 0.8661\n",
      "Epoch 59/100\n",
      "250/250 [==============================] - 0s 1ms/step - loss: 0.3210 - accuracy: 0.8634\n",
      "Epoch 60/100\n",
      "250/250 [==============================] - 0s 717us/step - loss: 0.3255 - accuracy: 0.8656\n",
      "Epoch 61/100\n",
      "250/250 [==============================] - 0s 727us/step - loss: 0.3339 - accuracy: 0.8638\n",
      "Epoch 62/100\n",
      "250/250 [==============================] - 0s 985us/step - loss: 0.3328 - accuracy: 0.8640\n",
      "Epoch 63/100\n",
      "250/250 [==============================] - 0s 991us/step - loss: 0.3273 - accuracy: 0.86490s - loss: 0.3280 - accuracy: 0.\n",
      "Epoch 64/100\n",
      "250/250 [==============================] - 0s 795us/step - loss: 0.3268 - accuracy: 0.8606\n",
      "Epoch 65/100\n",
      "250/250 [==============================] - 0s 878us/step - loss: 0.3297 - accuracy: 0.8618\n",
      "Epoch 66/100\n",
      "250/250 [==============================] - 0s 906us/step - loss: 0.3131 - accuracy: 0.8714\n",
      "Epoch 67/100\n",
      "250/250 [==============================] - 0s 799us/step - loss: 0.3312 - accuracy: 0.8627\n",
      "Epoch 68/100\n",
      "250/250 [==============================] - 0s 784us/step - loss: 0.3196 - accuracy: 0.8664\n",
      "Epoch 69/100\n",
      "250/250 [==============================] - 0s 855us/step - loss: 0.3266 - accuracy: 0.8634\n",
      "Epoch 70/100\n",
      "250/250 [==============================] - 0s 833us/step - loss: 0.3315 - accuracy: 0.8643\n",
      "Epoch 71/100\n",
      "250/250 [==============================] - 0s 900us/step - loss: 0.3293 - accuracy: 0.8675\n",
      "Epoch 72/100\n",
      "250/250 [==============================] - 0s 850us/step - loss: 0.3267 - accuracy: 0.8629\n",
      "Epoch 73/100\n",
      "250/250 [==============================] - 0s 887us/step - loss: 0.3151 - accuracy: 0.8700\n",
      "Epoch 74/100\n",
      "250/250 [==============================] - 0s 830us/step - loss: 0.3189 - accuracy: 0.8709\n",
      "Epoch 75/100\n",
      "250/250 [==============================] - 0s 800us/step - loss: 0.3317 - accuracy: 0.8647\n",
      "Epoch 76/100\n",
      "250/250 [==============================] - 0s 810us/step - loss: 0.3236 - accuracy: 0.8592\n",
      "Epoch 77/100\n",
      "250/250 [==============================] - 0s 801us/step - loss: 0.3185 - accuracy: 0.8682\n",
      "Epoch 78/100\n",
      "250/250 [==============================] - 0s 841us/step - loss: 0.3160 - accuracy: 0.8701\n",
      "Epoch 79/100\n",
      "250/250 [==============================] - 0s 792us/step - loss: 0.3275 - accuracy: 0.8665\n",
      "Epoch 80/100\n",
      "250/250 [==============================] - 0s 798us/step - loss: 0.3332 - accuracy: 0.8645\n",
      "Epoch 81/100\n",
      "250/250 [==============================] - 0s 787us/step - loss: 0.3196 - accuracy: 0.8712\n",
      "Epoch 82/100\n",
      "250/250 [==============================] - 0s 856us/step - loss: 0.3219 - accuracy: 0.8660\n",
      "Epoch 83/100\n",
      "250/250 [==============================] - 0s 783us/step - loss: 0.3215 - accuracy: 0.8648\n",
      "Epoch 84/100\n",
      "250/250 [==============================] - 0s 763us/step - loss: 0.3242 - accuracy: 0.8676\n",
      "Epoch 85/100\n",
      "250/250 [==============================] - 0s 794us/step - loss: 0.3226 - accuracy: 0.8637\n",
      "Epoch 86/100\n",
      "250/250 [==============================] - 0s 795us/step - loss: 0.3248 - accuracy: 0.8645\n",
      "Epoch 87/100\n",
      "250/250 [==============================] - 0s 809us/step - loss: 0.3281 - accuracy: 0.8622\n",
      "Epoch 88/100\n",
      "250/250 [==============================] - 0s 820us/step - loss: 0.3165 - accuracy: 0.8691\n",
      "Epoch 89/100\n",
      "250/250 [==============================] - 0s 775us/step - loss: 0.3102 - accuracy: 0.8696\n",
      "Epoch 90/100\n",
      "250/250 [==============================] - 0s 787us/step - loss: 0.3357 - accuracy: 0.8588\n",
      "Epoch 91/100\n",
      "250/250 [==============================] - 0s 830us/step - loss: 0.3231 - accuracy: 0.8655\n",
      "Epoch 92/100\n",
      "250/250 [==============================] - 0s 836us/step - loss: 0.3223 - accuracy: 0.8713\n",
      "Epoch 93/100\n",
      "250/250 [==============================] - 0s 895us/step - loss: 0.3353 - accuracy: 0.8603\n",
      "Epoch 94/100\n",
      "250/250 [==============================] - 0s 806us/step - loss: 0.3208 - accuracy: 0.8690\n",
      "Epoch 95/100\n",
      "250/250 [==============================] - 0s 779us/step - loss: 0.3254 - accuracy: 0.8596\n",
      "Epoch 96/100\n",
      "250/250 [==============================] - 0s 833us/step - loss: 0.3189 - accuracy: 0.8678\n",
      "Epoch 97/100\n",
      "250/250 [==============================] - 0s 866us/step - loss: 0.3331 - accuracy: 0.8604\n",
      "Epoch 98/100\n",
      "250/250 [==============================] - 0s 822us/step - loss: 0.3243 - accuracy: 0.8654\n",
      "Epoch 99/100\n",
      "250/250 [==============================] - 0s 795us/step - loss: 0.3266 - accuracy: 0.8656\n",
      "Epoch 100/100\n",
      "250/250 [==============================] - 0s 862us/step - loss: 0.3167 - accuracy: 0.8690\n"
     ]
    },
    {
     "data": {
      "text/plain": [
       "<tensorflow.python.keras.callbacks.History at 0x7fe9981a1c40>"
      ]
     },
     "execution_count": 20,
     "metadata": {},
     "output_type": "execute_result"
    }
   ],
   "source": [
    "ann.fit(X_train, y_train, batch_size = 32, epochs = 100)"
   ]
  },
  {
   "cell_type": "markdown",
   "metadata": {
    "id": "tJj5k2MxZga3"
   },
   "source": [
    "## Part 4 - Making the predictions and evaluating the model"
   ]
  },
  {
   "cell_type": "markdown",
   "metadata": {
    "id": "84QFoqGYeXHL"
   },
   "source": [
    "### Predicting the result of a single observation"
   ]
  },
  {
   "cell_type": "markdown",
   "metadata": {
    "id": "CGRo3eacgDdC"
   },
   "source": [
    "**Homework**\n",
    "\n",
    "Use our ANN model to predict if the customer with the following informations will leave the bank: \n",
    "\n",
    "Geography: France\n",
    "\n",
    "Credit Score: 600\n",
    "\n",
    "Gender: Male\n",
    "\n",
    "Age: 40 years old\n",
    "\n",
    "Tenure: 3 years\n",
    "\n",
    "Balance: \\$ 60000\n",
    "\n",
    "Number of Products: 2\n",
    "\n",
    "Does this customer have a credit card ? Yes\n",
    "\n",
    "Is this customer an Active Member: Yes\n",
    "\n",
    "Estimated Salary: \\$ 50000\n",
    "\n",
    "So, should we say goodbye to that customer ?"
   ]
  },
  {
   "cell_type": "markdown",
   "metadata": {
    "id": "ZhU1LTgPg-kH"
   },
   "source": [
    "**Solution**"
   ]
  },
  {
   "cell_type": "code",
   "execution_count": 21,
   "metadata": {
    "colab": {
     "base_uri": "https://localhost:8080/",
     "height": 34
    },
    "id": "2d8IoCCkeWGL",
    "outputId": "957f3970-e197-4c3b-a150-7f69dc567f5d"
   },
   "outputs": [
    {
     "name": "stdout",
     "output_type": "stream",
     "text": [
      "[[False]]\n"
     ]
    }
   ],
   "source": [
    "print(ann.predict(sc.transform([[1, 0, 0, 600, 1, 40, 3, 60000, 2, 1, 1, 50000]])) > 0.5)"
   ]
  },
  {
   "cell_type": "markdown",
   "metadata": {
    "id": "wGjx94g2n7OV"
   },
   "source": [
    "Therefore, our ANN model predicts that this customer stays in the bank!\n",
    "\n",
    "**Important note 1:** Notice that the values of the features were all input in a double pair of square brackets. That's because the \"predict\" method always expects a 2D array as the format of its inputs. And putting our values into a double pair of square brackets makes the input exactly a 2D array.\n",
    "\n",
    "**Important note 2:** Notice also that the \"France\" country was not input as a string in the last column but as \"1, 0, 0\" in the first three columns. That's because of course the predict method expects the one-hot-encoded values of the state, and as we see in the first row of the matrix of features X, \"France\" was encoded as \"1, 0, 0\". And be careful to include these values in the first three columns, because the dummy variables are always created in the first columns."
   ]
  },
  {
   "cell_type": "markdown",
   "metadata": {
    "id": "u7yx47jPZt11"
   },
   "source": [
    "### Predicting the Test set results"
   ]
  },
  {
   "cell_type": "code",
   "execution_count": 22,
   "metadata": {
    "colab": {
     "base_uri": "https://localhost:8080/",
     "height": 137
    },
    "id": "nIyEeQdRZwgs",
    "outputId": "82330ba8-9bdc-4fd1-d3cf-b6d78ee7c2a3"
   },
   "outputs": [
    {
     "name": "stdout",
     "output_type": "stream",
     "text": [
      "[[0 0]\n",
      " [0 1]\n",
      " [0 0]\n",
      " ...\n",
      " [0 0]\n",
      " [0 0]\n",
      " [0 0]]\n"
     ]
    }
   ],
   "source": [
    "y_pred = ann.predict(X_test)\n",
    "y_pred = (y_pred > 0.5)\n",
    "print(np.concatenate((y_pred.reshape(len(y_pred),1), y_test.reshape(len(y_test),1)),1))"
   ]
  },
  {
   "cell_type": "markdown",
   "metadata": {
    "id": "o0oyfLWoaEGw"
   },
   "source": [
    "### Making the Confusion Matrix"
   ]
  },
  {
   "cell_type": "code",
   "execution_count": 23,
   "metadata": {
    "colab": {
     "base_uri": "https://localhost:8080/",
     "height": 68
    },
    "id": "ci6K_r6LaF6P",
    "outputId": "4d854e9e-22d5-432f-f6e5-a102fe3ae0bd"
   },
   "outputs": [
    {
     "name": "stdout",
     "output_type": "stream",
     "text": [
      "[[1495  100]\n",
      " [ 185  220]]\n"
     ]
    },
    {
     "data": {
      "text/plain": [
       "0.8575"
      ]
     },
     "execution_count": 23,
     "metadata": {},
     "output_type": "execute_result"
    }
   ],
   "source": [
    "from sklearn.metrics import confusion_matrix, accuracy_score\n",
    "cm = confusion_matrix(y_test, y_pred)\n",
    "print(cm)\n",
    "accuracy_score(y_test, y_pred)"
   ]
  }
 ],
 "metadata": {
  "colab": {
   "collapsed_sections": [],
   "name": "artificial_neural_network.ipynb",
   "provenance": [
    {
     "file_id": "1E-RUKZjUFwH8ceoXKZ4zve8kKAORQXqf",
     "timestamp": 1599583986329
    }
   ],
   "toc_visible": true
  },
  "kernelspec": {
   "display_name": "Python 3",
   "language": "python",
   "name": "python3"
  },
  "language_info": {
   "codemirror_mode": {
    "name": "ipython",
    "version": 3
   },
   "file_extension": ".py",
   "mimetype": "text/x-python",
   "name": "python",
   "nbconvert_exporter": "python",
   "pygments_lexer": "ipython3",
   "version": "3.9.7"
  }
 },
 "nbformat": 4,
 "nbformat_minor": 1
}
