{
 "cells": [
  {
   "cell_type": "markdown",
   "metadata": {
    "id": "d3d6-RTVq5ZC"
   },
   "source": [
    "# Part 7 - Lesson 3 - Notebook"
   ]
  },
  {
   "cell_type": "code",
   "execution_count": 1,
   "metadata": {},
   "outputs": [
    {
     "data": {
      "text/plain": "'/Users/skobiako/development/private/tensorflow-certification/problems/transfer_learning'"
     },
     "execution_count": 1,
     "metadata": {},
     "output_type": "execute_result"
    }
   ],
   "source": [
    "pwd"
   ]
  },
  {
   "cell_type": "code",
   "execution_count": 2,
   "metadata": {
    "colab": {
     "height": 259
    },
    "id": "1xJZ5glPPCRz",
    "outputId": "27e9141e-270b-4f91-ee06-c534f26241d5"
   },
   "outputs": [
    {
     "name": "stderr",
     "output_type": "stream",
     "text": [
      "2022-01-06 01:52:09.185121: I tensorflow/core/platform/cpu_feature_guard.cc:151] This TensorFlow binary is optimized with oneAPI Deep Neural Network Library (oneDNN) to use the following CPU instructions in performance-critical operations:  AVX2 FMA\n",
      "To enable them in other operations, rebuild TensorFlow with the appropriate compiler flags.\n"
     ]
    }
   ],
   "source": [
    "from tensorflow.keras import layers\n",
    "from tensorflow.keras import Model\n",
    "from tensorflow.keras.applications.inception_v3 import InceptionV3\n",
    "\n",
    "local_weights_file = './model/inception_v3_weights_tf_dim_ordering_tf_kernels_notop.h5'\n",
    "\n",
    "pre_trained_model = InceptionV3(input_shape=(150, 150, 3),\n",
    "                                include_top=False,\n",
    "                                weights=None\n",
    "                                )\n",
    "\n",
    "pre_trained_model.load_weights(local_weights_file)\n",
    "\n",
    "for layer in pre_trained_model.layers:\n",
    "    layer.trainable = False"
   ]
  },
  {
   "cell_type": "code",
   "execution_count": 12,
   "metadata": {
    "colab": {
     "height": 276
    },
    "id": "O4s8HckqGlnb",
    "outputId": "76893e93-b44b-41f2-a4f2-428ad05c537d"
   },
   "outputs": [
    {
     "name": "stdout",
     "output_type": "stream",
     "text": [
      "Found 8000 images belonging to 2 classes.\n",
      "Found 2000 images belonging to 2 classes.\n"
     ]
    }
   ],
   "source": [
    "from tensorflow.keras.preprocessing.image import ImageDataGenerator\n",
    "\n",
    "# Add our data-augmentation parameters to ImageDataGenerator\n",
    "train_datagen = ImageDataGenerator(rescale=1. / 255.,\n",
    "                                   rotation_range=40,\n",
    "                                   width_shift_range=0.2,\n",
    "                                   height_shift_range=0.2,\n",
    "                                   shear_range=0.2,\n",
    "                                   zoom_range=0.2,\n",
    "                                   horizontal_flip=True)\n",
    "\n",
    "# Note that the validation data should not be augmented!\n",
    "test_datagen = ImageDataGenerator(rescale=1.0 / 255.)\n",
    "\n",
    "# Flow training images in batches of 20 using train_datagen generator\n",
    "train_generator = train_datagen.flow_from_directory('../dogs_and_cats/dataset/training_set',\n",
    "                                                    batch_size=20,\n",
    "                                                    class_mode='binary',\n",
    "                                                    target_size=(150, 150))\n",
    "\n",
    "# Flow validation images in batches of 20 using test_datagen generator\n",
    "validation_generator = test_datagen.flow_from_directory('../dogs_and_cats/dataset/test_set',\n",
    "                                                        batch_size=20,\n",
    "                                                        class_mode='binary',\n",
    "                                                        target_size=(150, 150))"
   ]
  },
  {
   "cell_type": "code",
   "execution_count": 24,
   "metadata": {
    "pycharm": {
     "name": "#%%\n"
    }
   },
   "outputs": [
    {
     "name": "stdout",
     "output_type": "stream",
     "text": [
      "last layer output shape:  (None, 7, 7, 768)\n"
     ]
    }
   ],
   "source": [
    "from tensorflow.keras.optimizers import RMSprop\n",
    "\n",
    "last_layer = pre_trained_model.get_layer('mixed7')\n",
    "print('last layer output shape: ', last_layer.output_shape)\n",
    "last_output = last_layer.output\n",
    "\n",
    "# Flatten the output layer to 1 dimension\n",
    "x = layers.Flatten()(last_output)\n",
    "# Add a fully connected layer with 1,024 hidden units and ReLU activation\n",
    "x = layers.Dense(1024, activation='relu')(x)\n",
    "# Add a dropout rate of 0.2\n",
    "x = layers.Dropout(0.2)(x)\n",
    "# Add a final sigmoid layer for classification\n",
    "x = layers.Dense(1, activation='sigmoid')(x)\n",
    "\n",
    "model = Model(pre_trained_model.input, x)\n",
    "\n",
    "model.compile(optimizer=RMSprop(lr=0.0001),\n",
    "              loss='binary_crossentropy',\n",
    "              metrics=['acc'])"
   ]
  },
  {
   "cell_type": "code",
   "execution_count": 25,
   "metadata": {
    "colab": {
     "height": 708
    },
    "id": "Blhq2MAUeyGA",
    "outputId": "a1659af1-32c1-4503-8972-d47b77b5035d"
   },
   "outputs": [
    {
     "name": "stderr",
     "output_type": "stream",
     "text": [
      "/var/folders/kv/7xk61ddx3tsd7chkptyw373h0000gp/T/ipykernel_26851/3148701690.py:1: UserWarning: `Model.fit_generator` is deprecated and will be removed in a future version. Please use `Model.fit`, which supports generators.\n",
      "  history = model.fit_generator(\n"
     ]
    },
    {
     "name": "stdout",
     "output_type": "stream",
     "text": [
      "Epoch 1/20\n",
      "100/100 [==============================] - 57s 537ms/step - loss: 0.3699 - acc: 0.8585 - val_loss: 0.1302 - val_acc: 0.9400\n",
      "Epoch 2/20\n",
      "100/100 [==============================] - 56s 563ms/step - loss: 0.2390 - acc: 0.9005 - val_loss: 0.0738 - val_acc: 0.9600\n",
      "Epoch 3/20\n",
      "100/100 [==============================] - 54s 543ms/step - loss: 0.2102 - acc: 0.9130 - val_loss: 0.1348 - val_acc: 0.9400\n",
      "Epoch 4/20\n",
      "100/100 [==============================] - 51s 507ms/step - loss: 0.2260 - acc: 0.9280 - val_loss: 0.0774 - val_acc: 0.9600\n",
      "Epoch 5/20\n",
      "100/100 [==============================] - 52s 513ms/step - loss: 0.2014 - acc: 0.9245 - val_loss: 0.2300 - val_acc: 0.9000\n",
      "Epoch 6/20\n",
      "100/100 [==============================] - 51s 512ms/step - loss: 0.1975 - acc: 0.9240 - val_loss: 0.1365 - val_acc: 0.9400\n",
      "Epoch 7/20\n",
      "100/100 [==============================] - 54s 534ms/step - loss: 0.1934 - acc: 0.9280 - val_loss: 0.1073 - val_acc: 0.9600\n",
      "Epoch 8/20\n",
      "100/100 [==============================] - 52s 518ms/step - loss: 0.2187 - acc: 0.9195 - val_loss: 0.0047 - val_acc: 1.0000\n",
      "Epoch 9/20\n",
      "100/100 [==============================] - 53s 530ms/step - loss: 0.1733 - acc: 0.9390 - val_loss: 0.2164 - val_acc: 0.9200\n",
      "Epoch 10/20\n",
      "100/100 [==============================] - 53s 531ms/step - loss: 0.1930 - acc: 0.9385 - val_loss: 0.0131 - val_acc: 1.0000\n",
      "Epoch 11/20\n",
      "100/100 [==============================] - 56s 554ms/step - loss: 0.1674 - acc: 0.9420 - val_loss: 0.0425 - val_acc: 0.9800\n",
      "Epoch 12/20\n",
      "100/100 [==============================] - 51s 508ms/step - loss: 0.2200 - acc: 0.9285 - val_loss: 0.0098 - val_acc: 1.0000\n",
      "Epoch 13/20\n",
      "100/100 [==============================] - 53s 528ms/step - loss: 0.1631 - acc: 0.9395 - val_loss: 0.1025 - val_acc: 0.9800\n",
      "Epoch 14/20\n",
      "100/100 [==============================] - 48s 475ms/step - loss: 0.1959 - acc: 0.9320 - val_loss: 0.0524 - val_acc: 0.9800\n",
      "Epoch 15/20\n",
      "100/100 [==============================] - 50s 497ms/step - loss: 0.1816 - acc: 0.9425 - val_loss: 0.0399 - val_acc: 0.9800\n",
      "Epoch 16/20\n",
      "100/100 [==============================] - 51s 513ms/step - loss: 0.1680 - acc: 0.9410 - val_loss: 0.0957 - val_acc: 0.9600\n",
      "Epoch 17/20\n",
      "100/100 [==============================] - 53s 533ms/step - loss: 0.2044 - acc: 0.9330 - val_loss: 0.3778 - val_acc: 0.9400\n",
      "Epoch 18/20\n",
      "100/100 [==============================] - 56s 557ms/step - loss: 0.1644 - acc: 0.9415 - val_loss: 0.0775 - val_acc: 0.9800\n",
      "Epoch 19/20\n",
      "100/100 [==============================] - 57s 571ms/step - loss: 0.1430 - acc: 0.9520 - val_loss: 0.0070 - val_acc: 1.0000\n",
      "Epoch 20/20\n",
      "100/100 [==============================] - 60s 597ms/step - loss: 0.1624 - acc: 0.9475 - val_loss: 0.0376 - val_acc: 0.9800\n"
     ]
    }
   ],
   "source": [
    "history = model.fit(\n",
    "    train_generator,\n",
    "    validation_data=validation_generator,\n",
    "    steps_per_epoch=100,\n",
    "    epochs=20,\n",
    "    validation_steps=50\n",
    ")"
   ]
  },
  {
   "cell_type": "code",
   "execution_count": 26,
   "metadata": {
    "colab": {
     "height": 306
    },
    "id": "C2Fp6Se9rKuL",
    "outputId": "498822a1-4a8d-4840-cdb9-26366f754c41"
   },
   "outputs": [
    {
     "data": {
      "text/plain": "<Figure size 432x288 with 1 Axes>",
      "image/png": "[encoded data removed]"
     },
     "metadata": {
      "needs_background": "light"
     },
     "output_type": "display_data"
    },
    {
     "data": {
      "text/plain": "<Figure size 432x288 with 0 Axes>"
     },
     "metadata": {},
     "output_type": "display_data"
    }
   ],
   "source": [
    "import matplotlib.pyplot as plt\n",
    "\n",
    "acc = history.history['acc']\n",
    "val_acc = history.history['val_acc']\n",
    "loss = history.history['loss']\n",
    "val_loss = history.history['val_loss']\n",
    "\n",
    "epochs = range(len(acc))\n",
    "\n",
    "plt.plot(epochs, acc, 'r', label='Training accuracy')\n",
    "plt.plot(epochs, val_acc, 'b', label='Validation accuracy')\n",
    "plt.title('Training and validation accuracy')\n",
    "plt.legend(loc=0)\n",
    "plt.figure()\n",
    "\n",
    "plt.show()"
   ]
  }
 ],
 "metadata": {
  "accelerator": "GPU",
  "colab": {
   "collapsed_sections": [],
   "name": "Part 9 - Lesson 3 - Notebook.ipynb",
   "provenance": []
  },
  "kernelspec": {
   "display_name": "Python 3 (ipykernel)",
   "language": "python",
   "name": "python3"
  },
  "language_info": {
   "codemirror_mode": {
    "name": "ipython",
    "version": 3
   },
   "file_extension": ".py",
   "mimetype": "text/x-python",
   "name": "python",
   "nbconvert_exporter": "python",
   "pygments_lexer": "ipython3",
   "version": "3.8.12"
  }
 },
 "nbformat": 4,
 "nbformat_minor": 1
}