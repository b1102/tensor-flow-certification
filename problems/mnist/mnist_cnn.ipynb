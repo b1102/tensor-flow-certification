{
 "cells": [
  {
   "cell_type": "code",
   "execution_count": 13,
   "metadata": {},
   "outputs": [
    {
     "name": "stdout",
     "output_type": "stream",
     "text": [
      "The tensorboard extension is already loaded. To reload it, use:\n",
      "  %reload_ext tensorboard\n"
     ]
    }
   ],
   "source": [
    "import tensorflow as tf\n",
    "from tensorflow.keras import datasets, layers, models, optimizers\n",
    "%load_ext tensorboard"
   ]
  },
  {
   "cell_type": "code",
   "execution_count": 19,
   "metadata": {},
   "outputs": [],
   "source": [
    "physical_devices = tf.config.list_physical_devices('GPU')\n",
    "tf.config.experimental.set_memory_growth(physical_devices[0], True)\n",
    "\n",
    "\n",
    "EPOCHS = 15\n",
    "BATCH_SIZE = 128\n",
    "OPTIMIZER = optimizers.Adam()\n",
    "VALIDATION_SPLIT = 0.95\n",
    "\n",
    "IMG_ROWS, IMG_COLS = 28, 28\n",
    "INPUT_SHAPE = (IMG_ROWS, IMG_COLS, 1)\n",
    "NB_CLASSES = 10"
   ]
  },
  {
   "cell_type": "code",
   "execution_count": 20,
   "metadata": {
    "pycharm": {
     "name": "#%%\n"
    }
   },
   "outputs": [],
   "source": [
    "(X_train, y_train), (X_test, y_test) = datasets.mnist.load_data()\n",
    "X_train = X_train.reshape((60000, 28, 28, 1))\n",
    "X_test = X_test.reshape((10000, 28, 28, 1))\n",
    "\n",
    "X_train, X_test = X_train / 255.0, X_test / 255.0\n",
    "X_train, X_test = X_train.astype('float32'), X_test.astype('float32')\n",
    "\n",
    "y_train = tf.keras.utils.to_categorical(y_train, NB_CLASSES)\n",
    "y_test = tf.keras.utils.to_categorical(y_test, NB_CLASSES)"
   ]
  },
  {
   "cell_type": "code",
   "execution_count": 21,
   "metadata": {},
   "outputs": [
    {
     "name": "stdout",
     "output_type": "stream",
     "text": [
      "Model: \"sequential_4\"\n",
      "_________________________________________________________________\n",
      " Layer (type)                Output Shape              Param #   \n",
      "=================================================================\n",
      " conv2d_8 (Conv2D)           (None, 24, 24, 20)        520       \n",
      "                                                                 \n",
      " max_pooling2d_8 (MaxPooling  (None, 12, 12, 20)       0         \n",
      " 2D)                                                             \n",
      "                                                                 \n",
      " conv2d_9 (Conv2D)           (None, 8, 8, 50)          25050     \n",
      "                                                                 \n",
      " max_pooling2d_9 (MaxPooling  (None, 4, 4, 50)         0         \n",
      " 2D)                                                             \n",
      "                                                                 \n",
      " flatten_4 (Flatten)         (None, 800)               0         \n",
      "                                                                 \n",
      " dense_8 (Dense)             (None, 500)               400500    \n",
      "                                                                 \n",
      " dense_9 (Dense)             (None, 10)                5010      \n",
      "                                                                 \n",
      "=================================================================\n",
      "Total params: 431,080\n",
      "Trainable params: 431,080\n",
      "Non-trainable params: 0\n",
      "_________________________________________________________________\n"
     ]
    }
   ],
   "source": [
    "model = models.Sequential()\n",
    "\n",
    "model.add(layers.Convolution2D(20, (5, 5), activation='relu', input_shape=INPUT_SHAPE))\n",
    "model.add(layers.MaxPooling2D(pool_size=(2, 2), strides=(2, 2)))\n",
    "\n",
    "model.add(layers.Convolution2D(50, (5, 5), activation='relu'))\n",
    "model.add(layers.MaxPooling2D(pool_size=(2, 2), strides=(2, 2)))\n",
    "\n",
    "model.add(layers.Flatten())\n",
    "model.add(layers.Dense(500, activation='relu'))\n",
    "model.add(layers.Dense(NB_CLASSES, activation=\"softmax\"))\n",
    "\n",
    "model.compile(loss=\"categorical_crossentropy\", optimizer=OPTIMIZER, metrics=[\"accuracy\"])\n",
    "model.summary()"
   ]
  },
  {
   "cell_type": "code",
   "execution_count": 22,
   "metadata": {},
   "outputs": [
    {
     "name": "stdout",
     "output_type": "stream",
     "text": [
      "Epoch 1/15\n",
      "24/24 [==============================] - 1s 33ms/step - loss: 1.1780 - accuracy: 0.6733 - val_loss: 0.5522 - val_accuracy: 0.8316\n",
      "Epoch 2/15\n",
      "24/24 [==============================] - 1s 27ms/step - loss: 0.3665 - accuracy: 0.8970 - val_loss: 0.2875 - val_accuracy: 0.9168\n",
      "Epoch 3/15\n",
      "24/24 [==============================] - 1s 25ms/step - loss: 0.2152 - accuracy: 0.9387 - val_loss: 0.2167 - val_accuracy: 0.9341\n",
      "Epoch 4/15\n",
      "24/24 [==============================] - 1s 25ms/step - loss: 0.1543 - accuracy: 0.9577 - val_loss: 0.1973 - val_accuracy: 0.9378\n",
      "Epoch 5/15\n",
      "24/24 [==============================] - 1s 25ms/step - loss: 0.1187 - accuracy: 0.9683 - val_loss: 0.1537 - val_accuracy: 0.9537\n",
      "Epoch 6/15\n",
      "24/24 [==============================] - 1s 26ms/step - loss: 0.0998 - accuracy: 0.9720 - val_loss: 0.1474 - val_accuracy: 0.9538\n",
      "Epoch 7/15\n",
      "24/24 [==============================] - 1s 25ms/step - loss: 0.0850 - accuracy: 0.9767 - val_loss: 0.1306 - val_accuracy: 0.9595\n",
      "Epoch 8/15\n",
      "24/24 [==============================] - 1s 28ms/step - loss: 0.0595 - accuracy: 0.9830 - val_loss: 0.1317 - val_accuracy: 0.9592\n",
      "Epoch 9/15\n",
      "24/24 [==============================] - 1s 26ms/step - loss: 0.0519 - accuracy: 0.9887 - val_loss: 0.1269 - val_accuracy: 0.9610\n",
      "Epoch 10/15\n",
      "24/24 [==============================] - 1s 26ms/step - loss: 0.0352 - accuracy: 0.9923 - val_loss: 0.1183 - val_accuracy: 0.9636\n",
      "Epoch 11/15\n",
      "24/24 [==============================] - 1s 24ms/step - loss: 0.0322 - accuracy: 0.9930 - val_loss: 0.1232 - val_accuracy: 0.9622\n",
      "Epoch 12/15\n",
      "24/24 [==============================] - 1s 26ms/step - loss: 0.0277 - accuracy: 0.9933 - val_loss: 0.1258 - val_accuracy: 0.9615\n",
      "Epoch 13/15\n",
      "24/24 [==============================] - 1s 25ms/step - loss: 0.0206 - accuracy: 0.9960 - val_loss: 0.1259 - val_accuracy: 0.9632\n",
      "Epoch 14/15\n",
      "24/24 [==============================] - 1s 25ms/step - loss: 0.0167 - accuracy: 0.9957 - val_loss: 0.1173 - val_accuracy: 0.9664\n",
      "Epoch 15/15\n",
      "24/24 [==============================] - 1s 25ms/step - loss: 0.0117 - accuracy: 0.9977 - val_loss: 0.1281 - val_accuracy: 0.9627\n",
      "313/313 [==============================] - 1s 2ms/step - loss: 0.1012 - accuracy: 0.9690\n",
      "Test score 0.10118267685174942\n",
      "Test accuracy 0.968999981880188\n"
     ]
    }
   ],
   "source": [
    "callbacks = [tf.keras.callbacks.TensorBoard(log_dir=\"./logs\")]\n",
    "history = model.fit(X_train, y_train, batch_size=BATCH_SIZE, epochs=EPOCHS, verbose=True,\n",
    "                    validation_split=VALIDATION_SPLIT, callbacks=callbacks)\n",
    "score = model.evaluate(X_test, y_test, verbose=True)\n",
    "print(\"Test score {}\".format(score[0]))\n",
    "print(\"Test accuracy {}\".format(score[1]))"
   ]
  },
  {
   "cell_type": "code",
   "execution_count": 23,
   "metadata": {},
   "outputs": [
    {
     "data": {
      "text/plain": [
       "Reusing TensorBoard on port 6006 (pid 14190), started 0:01:01 ago. (Use '!kill 14190' to kill it.)"
      ]
     },
     "metadata": {},
     "output_type": "display_data"
    },
    {
     "data": {
      "text/html": [
       "\n",
       "      <iframe id=\"tensorboard-frame-787fda2f5ba3ae97\" width=\"100%\" height=\"800\" frameborder=\"0\">\n",
       "      </iframe>\n",
       "      <script>\n",
       "        (function() {\n",
       "          const frame = document.getElementById(\"tensorboard-frame-787fda2f5ba3ae97\");\n",
       "          const url = new URL(\"/\", window.location);\n",
       "          const port = 6006;\n",
       "          if (port) {\n",
       "            url.port = port;\n",
       "          }\n",
       "          frame.src = url;\n",
       "        })();\n",
       "      </script>\n",
       "    "
      ],
      "text/plain": [
       "<IPython.core.display.HTML object>"
      ]
     },
     "metadata": {},
     "output_type": "display_data"
    }
   ],
   "source": [
    "%tensorboard --logdir \"./logs\""
   ]
  }
 ],
 "metadata": {
  "kernelspec": {
   "display_name": "Python 3 (ipykernel)",
   "language": "python",
   "name": "python3"
  },
  "language_info": {
   "codemirror_mode": {
    "name": "ipython",
    "version": 3
   },
   "file_extension": ".py",
   "mimetype": "text/x-python",
   "name": "python",
   "nbconvert_exporter": "python",
   "pygments_lexer": "ipython3",
   "version": "3.8.12"
  }
 },
 "nbformat": 4,
 "nbformat_minor": 1
}