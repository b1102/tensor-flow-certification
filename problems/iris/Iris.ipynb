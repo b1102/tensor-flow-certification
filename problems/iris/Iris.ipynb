{
 "cells": [
  {
   "cell_type": "code",
   "execution_count": 56,
   "metadata": {},
   "outputs": [],
   "source": [
    "from sklearn.model_selection import train_test_split\n",
    "from sklearn.preprocessing import StandardScaler\n",
    "from sklearn.preprocessing import OneHotEncoder\n",
    "\n",
    "import tensorflow as tf\n",
    "import os\n",
    "import matplotlib.pyplot as plt\n",
    "import pandas as pd"
   ]
  },
  {
   "cell_type": "code",
   "execution_count": 57,
   "metadata": {},
   "outputs": [
    {
     "name": "stdout",
     "output_type": "stream",
     "text": [
      "Local copy of the dataset file: /home/b1102/.keras/datasets/iris_training.csv\n"
     ]
    }
   ],
   "source": [
    "train_dataset_url = \"https://storage.googleapis.com/download.tensorflow.org/data/iris_training.csv\"\n",
    "\n",
    "train_dataset_fp = tf.keras.utils.get_file(\n",
    "    fname=os.path.basename(train_dataset_url),\n",
    "    origin=train_dataset_url\n",
    ")\n",
    "print(\"Local copy of the dataset file: {}\".format(train_dataset_fp))"
   ]
  },
  {
   "cell_type": "code",
   "execution_count": 58,
   "metadata": {
    "scrolled": true
   },
   "outputs": [
    {
     "data": {
      "image/png": "[encoded data removed]",
      "text/plain": [
       "<Figure size 432x288 with 1 Axes>"
      ]
     },
     "metadata": {
      "needs_background": "light"
     },
     "output_type": "display_data"
    }
   ],
   "source": [
    "class_names = ['Iris setosa', 'Iris versicolor', 'Iris virginica']\n",
    "column_names = ['sepal_length', 'sepal_width', 'petal_length', 'petal_width', 'species']\n",
    "dataset = pd.read_csv(train_dataset_url, names=column_names, skiprows=1)\n",
    "\n",
    "X = dataset.iloc[:, 0:-1]\n",
    "Y = dataset.iloc[:, -1]\n",
    "\n",
    "plt.scatter(X.iloc[:, 2], X.iloc[:, 0], c=Y, cmap='viridis')\n",
    "plt.xlabel(\"Petal length\")\n",
    "plt.ylabel(\"Sepal length\")\n",
    "plt.show()"
   ]
  },
  {
   "cell_type": "markdown",
   "metadata": {},
   "source": [
    "<h1>One hot encoding</h1>"
   ]
  },
  {
   "cell_type": "code",
   "execution_count": 59,
   "metadata": {},
   "outputs": [],
   "source": [
    "Y = Y.values.reshape(-1, 1)\n",
    "\n",
    "ec = OneHotEncoder(sparse=False)\n",
    "Y = ec.fit_transform(Y)\n",
    "\n",
    "X_train, X_test, Y_train, Y_test = train_test_split(X, Y, test_size=0.2, random_state=0)"
   ]
  },
  {
   "cell_type": "markdown",
   "metadata": {},
   "source": [
    "<h1> Features scaling </h1>"
   ]
  },
  {
   "cell_type": "code",
   "execution_count": 60,
   "metadata": {},
   "outputs": [],
   "source": [
    "sc = StandardScaler()\n",
    "X_train = sc.fit_transform(X_train)\n",
    "X_test = sc.transform(X_test)"
   ]
  },
  {
   "cell_type": "markdown",
   "metadata": {},
   "source": [
    "<h1>Model</h1>"
   ]
  },
  {
   "cell_type": "code",
   "execution_count": 61,
   "metadata": {},
   "outputs": [
    {
     "name": "stdout",
     "output_type": "stream",
     "text": [
      "Epoch 1/50\n",
      "6/6 [==============================] - 0s 2ms/step - loss: 0.9456 - accuracy: 0.4427\n",
      "Epoch 2/50\n",
      "6/6 [==============================] - 0s 853us/step - loss: 0.9804 - accuracy: 0.3659\n",
      "Epoch 3/50\n",
      "6/6 [==============================] - 0s 885us/step - loss: 0.9008 - accuracy: 0.4067\n",
      "Epoch 4/50\n",
      "6/6 [==============================] - 0s 818us/step - loss: 0.8588 - accuracy: 0.4521\n",
      "Epoch 5/50\n",
      "6/6 [==============================] - 0s 933us/step - loss: 0.8783 - accuracy: 0.4216\n",
      "Epoch 6/50\n",
      "6/6 [==============================] - 0s 2ms/step - loss: 0.8200 - accuracy: 0.4814\n",
      "Epoch 7/50\n",
      "6/6 [==============================] - 0s 858us/step - loss: 0.8188 - accuracy: 0.4862\n",
      "Epoch 8/50\n",
      "6/6 [==============================] - 0s 919us/step - loss: 0.8439 - accuracy: 0.4682\n",
      "Epoch 9/50\n",
      "6/6 [==============================] - 0s 2ms/step - loss: 0.7394 - accuracy: 0.5997\n",
      "Epoch 10/50\n",
      "6/6 [==============================] - 0s 918us/step - loss: 0.6595 - accuracy: 0.6754\n",
      "Epoch 11/50\n",
      "6/6 [==============================] - 0s 2ms/step - loss: 0.6730 - accuracy: 0.7048\n",
      "Epoch 12/50\n",
      "6/6 [==============================] - 0s 884us/step - loss: 0.7218 - accuracy: 0.7140\n",
      "Epoch 13/50\n",
      "6/6 [==============================] - 0s 2ms/step - loss: 0.6485 - accuracy: 0.7628\n",
      "Epoch 14/50\n",
      "6/6 [==============================] - 0s 847us/step - loss: 0.6489 - accuracy: 0.8106\n",
      "Epoch 15/50\n",
      "6/6 [==============================] - 0s 1ms/step - loss: 0.5984 - accuracy: 0.8143\n",
      "Epoch 16/50\n",
      "6/6 [==============================] - 0s 858us/step - loss: 0.6321 - accuracy: 0.8183\n",
      "Epoch 17/50\n",
      "6/6 [==============================] - 0s 2ms/step - loss: 0.5457 - accuracy: 0.8376\n",
      "Epoch 18/50\n",
      "6/6 [==============================] - 0s 837us/step - loss: 0.5312 - accuracy: 0.8580\n",
      "Epoch 19/50\n",
      "6/6 [==============================] - 0s 863us/step - loss: 0.5684 - accuracy: 0.8204\n",
      "Epoch 20/50\n",
      "6/6 [==============================] - 0s 1ms/step - loss: 0.4839 - accuracy: 0.8277\n",
      "Epoch 21/50\n",
      "6/6 [==============================] - 0s 973us/step - loss: 0.5531 - accuracy: 0.7542\n",
      "Epoch 22/50\n",
      "6/6 [==============================] - 0s 2ms/step - loss: 0.4999 - accuracy: 0.8321\n",
      "Epoch 23/50\n",
      "6/6 [==============================] - 0s 1ms/step - loss: 0.4720 - accuracy: 0.8518\n",
      "Epoch 24/50\n",
      "6/6 [==============================] - 0s 1ms/step - loss: 0.4268 - accuracy: 0.8746\n",
      "Epoch 25/50\n",
      "6/6 [==============================] - 0s 2ms/step - loss: 0.4931 - accuracy: 0.7820\n",
      "Epoch 26/50\n",
      "6/6 [==============================] - 0s 922us/step - loss: 0.3988 - accuracy: 0.8875\n",
      "Epoch 27/50\n",
      "6/6 [==============================] - 0s 5ms/step - loss: 0.4340 - accuracy: 0.8503\n",
      "Epoch 28/50\n",
      "6/6 [==============================] - 0s 3ms/step - loss: 0.4257 - accuracy: 0.8604\n",
      "Epoch 29/50\n",
      "6/6 [==============================] - 0s 2ms/step - loss: 0.3428 - accuracy: 0.8927\n",
      "Epoch 30/50\n",
      "6/6 [==============================] - 0s 2ms/step - loss: 0.3444 - accuracy: 0.8854\n",
      "Epoch 31/50\n",
      "6/6 [==============================] - 0s 1ms/step - loss: 0.4301 - accuracy: 0.8494\n",
      "Epoch 32/50\n",
      "6/6 [==============================] - 0s 1ms/step - loss: 0.3485 - accuracy: 0.8781\n",
      "Epoch 33/50\n",
      "6/6 [==============================] - 0s 898us/step - loss: 0.3864 - accuracy: 0.8768\n",
      "Epoch 34/50\n",
      "6/6 [==============================] - 0s 992us/step - loss: 0.4065 - accuracy: 0.8516\n",
      "Epoch 35/50\n",
      "6/6 [==============================] - 0s 1ms/step - loss: 0.3691 - accuracy: 0.8765\n",
      "Epoch 36/50\n",
      "6/6 [==============================] - 0s 986us/step - loss: 0.4084 - accuracy: 0.8631\n",
      "Epoch 37/50\n",
      "6/6 [==============================] - 0s 2ms/step - loss: 0.3293 - accuracy: 0.8790\n",
      "Epoch 38/50\n",
      "6/6 [==============================] - 0s 1ms/step - loss: 0.3454 - accuracy: 0.8887\n",
      "Epoch 39/50\n",
      "6/6 [==============================] - 0s 2ms/step - loss: 0.3245 - accuracy: 0.8927\n",
      "Epoch 40/50\n",
      "6/6 [==============================] - 0s 1ms/step - loss: 0.3224 - accuracy: 0.9083\n",
      "Epoch 41/50\n",
      "6/6 [==============================] - 0s 2ms/step - loss: 0.3650 - accuracy: 0.8935\n",
      "Epoch 42/50\n",
      "6/6 [==============================] - 0s 1ms/step - loss: 0.3245 - accuracy: 0.9246\n",
      "Epoch 43/50\n",
      "6/6 [==============================] - 0s 1ms/step - loss: 0.3570 - accuracy: 0.8857\n",
      "Epoch 44/50\n",
      "6/6 [==============================] - 0s 1ms/step - loss: 0.2621 - accuracy: 0.9351\n",
      "Epoch 45/50\n",
      "6/6 [==============================] - 0s 1ms/step - loss: 0.2797 - accuracy: 0.9283\n",
      "Epoch 46/50\n",
      "6/6 [==============================] - 0s 1ms/step - loss: 0.2359 - accuracy: 0.9437\n",
      "Epoch 47/50\n",
      "6/6 [==============================] - 0s 959us/step - loss: 0.2601 - accuracy: 0.9476\n",
      "Epoch 48/50\n",
      "6/6 [==============================] - 0s 2ms/step - loss: 0.2640 - accuracy: 0.9539\n",
      "Epoch 49/50\n",
      "6/6 [==============================] - 0s 1ms/step - loss: 0.2393 - accuracy: 0.9405\n",
      "Epoch 50/50\n",
      "6/6 [==============================] - 0s 2ms/step - loss: 0.2637 - accuracy: 0.9445\n"
     ]
    },
    {
     "data": {
      "text/plain": [
       "<tensorflow.python.keras.callbacks.History at 0x7fb1e864fca0>"
      ]
     },
     "execution_count": 61,
     "metadata": {},
     "output_type": "execute_result"
    }
   ],
   "source": [
    "ann = tf.keras.models.Sequential()\n",
    "ann.add(tf.keras.layers.Dense(units=16, activation='relu'))\n",
    "ann.add(tf.keras.layers.Dense(units=16, activation='relu'))\n",
    "ann.add(tf.keras.layers.Dense(units=3, activation='softmax'))\n",
    "ann.compile(optimizer='adam', loss='categorical_crossentropy', metrics=['accuracy'])\n",
    "ann.fit(X_train, Y_train, batch_size=16, epochs=50)"
   ]
  },
  {
   "cell_type": "markdown",
   "metadata": {},
   "source": [
    "<h1>Evaluation</h1>"
   ]
  },
  {
   "cell_type": "code",
   "execution_count": 62,
   "metadata": {},
   "outputs": [
    {
     "name": "stdout",
     "output_type": "stream",
     "text": [
      "WARNING:tensorflow:7 out of the last 12 calls to <function Model.make_test_function.<locals>.test_function at 0x7fb1e8553940> triggered tf.function retracing. Tracing is expensive and the excessive number of tracings could be due to (1) creating @tf.function repeatedly in a loop, (2) passing tensors with different shapes, (3) passing Python objects instead of tensors. For (1), please define your @tf.function outside of the loop. For (2), @tf.function has experimental_relax_shapes=True option that relaxes argument shapes that can avoid unnecessary retracing. For (3), please refer to https://www.tensorflow.org/guide/function#controlling_retracing and https://www.tensorflow.org/api_docs/python/tf/function for  more details.\n",
      "1/1 [==============================] - 0s 94ms/step - loss: 0.3385 - accuracy: 0.9167\n",
      "test loss, test acc: [0.33847346901893616, 0.9166666865348816]\n"
     ]
    }
   ],
   "source": [
    "results = ann.evaluate(X_test, Y_test, batch_size=32)\n",
    "print(\"test loss, test acc:\", results)"
   ]
  }
 ],
 "metadata": {
  "kernelspec": {
   "display_name": "Python 3",
   "language": "python",
   "name": "python3"
  },
  "language_info": {
   "codemirror_mode": {
    "name": "ipython",
    "version": 3
   },
   "file_extension": ".py",
   "mimetype": "text/x-python",
   "name": "python",
   "nbconvert_exporter": "python",
   "pygments_lexer": "ipython3",
   "version": "3.9.7"
  }
 },
 "nbformat": 4,
 "nbformat_minor": 1
}